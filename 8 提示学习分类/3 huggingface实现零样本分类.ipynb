{
 "cells": [
  {
   "cell_type": "code",
   "execution_count": 1,
   "id": "59571060",
   "metadata": {},
   "outputs": [],
   "source": [
    "from transformers import pipeline\n",
    "\n",
    "model_name_or_path=r\"E:\\code\\chinese-roberta-wwm-ext\""
   ]
  },
  {
   "cell_type": "code",
   "execution_count": 21,
   "id": "75e3b23b",
   "metadata": {},
   "outputs": [
    {
     "name": "stderr",
     "output_type": "stream",
     "text": [
      "Some weights of BertForSequenceClassification were not initialized from the model checkpoint at E:\\code\\chinese-roberta-wwm-ext and are newly initialized: ['classifier.weight', 'classifier.bias']\n",
      "You should probably TRAIN this model on a down-stream task to be able to use it for predictions and inference.\n",
      "Failed to determine 'entailment' label id from the label2id mapping in the model config. Setting to -1. Define a descriptive label2id mapping in the model config to ensure correct outputs.\n",
      "Asking to truncate to max_length but no maximum length is provided and the model has no predefined maximum length. Default to no truncation.\n"
     ]
    },
    {
     "data": {
      "text/plain": [
       "{'sequence': '感谢致电杭州萧山全金釜韩国烧烤店，本店位于金城路xxx号。韩式烧烤等，价格实惠、欢迎惠顾【全金釜韩国烧烤店】',\n",
       " 'labels': ['正常短信', '垃圾短信'],\n",
       " 'scores': [0.5054343938827515, 0.4945656359195709]}"
      ]
     },
     "execution_count": 21,
     "metadata": {},
     "output_type": "execute_result"
    }
   ],
   "source": [
    "classifier = pipeline(\"zero-shot-classification\", model = model_name_or_path, device=0)\n",
    "classifier(\n",
    "    \"感谢致电杭州萧山全金釜韩国烧烤店，本店位于金城路xxx号。韩式烧烤等，价格实惠、欢迎惠顾【全金釜韩国烧烤店】\",\n",
    "    candidate_labels=[\"垃圾短信\", \"正常短信\"],\n",
    "    hypothesis_template = \"这条信息是{}。\"\n",
    ")"
   ]
  },
  {
   "cell_type": "code",
   "execution_count": 4,
   "id": "51c02b4e",
   "metadata": {},
   "outputs": [],
   "source": [
    "import pandas as pd\n",
    "import numpy as np"
   ]
  },
  {
   "cell_type": "code",
   "execution_count": 5,
   "id": "f0f0cfbc",
   "metadata": {},
   "outputs": [
    {
     "name": "stdout",
     "output_type": "stream",
     "text": [
      "(1243, 2)\n"
     ]
    }
   ],
   "source": [
    "#1、加载数据\n",
    "train_df = pd.read_csv(r'data.csv', encoding='utf-8', header=None, names=['label','review'])\n",
    "print(train_df.shape)\n",
    "\n",
    "sentences = list(train_df['review'][1:])\n",
    "label =train_df['label'][1:].values"
   ]
  },
  {
   "cell_type": "code",
   "execution_count": 6,
   "id": "143377b7",
   "metadata": {},
   "outputs": [],
   "source": [
    "labels = []\n",
    "for s in label:\n",
    "    labels.append(int(s))"
   ]
  },
  {
   "cell_type": "code",
   "execution_count": 8,
   "id": "baad2119",
   "metadata": {},
   "outputs": [
    {
     "name": "stderr",
     "output_type": "stream",
     "text": [
      "Some weights of BertForSequenceClassification were not initialized from the model checkpoint at E:\\code\\chinese-roberta-wwm-ext and are newly initialized: ['classifier.weight', 'classifier.bias']\n",
      "You should probably TRAIN this model on a down-stream task to be able to use it for predictions and inference.\n",
      "Failed to determine 'entailment' label id from the label2id mapping in the model config. Setting to -1. Define a descriptive label2id mapping in the model config to ensure correct outputs.\n",
      "Asking to truncate to max_length but no maximum length is provided and the model has no predefined maximum length. Default to no truncation.\n"
     ]
    }
   ],
   "source": [
    "classifier = pipeline(\"zero-shot-classification\", model = model_name_or_path, device=0, batch_size=16)\n",
    "\n",
    "results = classifier(\n",
    "    sentences[:300],\n",
    "    candidate_labels=[\"垃圾短信\", \"正常短信\"],\n",
    "    hypothesis_template = \"这条信息是{}。\",\n",
    ")"
   ]
  },
  {
   "cell_type": "code",
   "execution_count": 9,
   "id": "227aada5",
   "metadata": {},
   "outputs": [],
   "source": [
    "pre = []\n",
    "for each in results:\n",
    "    if each['labels'][0] == '正常短信':\n",
    "        pre.append(0)\n",
    "    else:\n",
    "        pre.append(1)"
   ]
  },
  {
   "cell_type": "code",
   "execution_count": 10,
   "id": "5f9600bc",
   "metadata": {},
   "outputs": [
    {
     "name": "stdout",
     "output_type": "stream",
     "text": [
      "              precision    recall  f1-score   support\n",
      "\n",
      "           0     0.5301    0.8598    0.6558       164\n",
      "           1     0.3235    0.0809    0.1294       136\n",
      "\n",
      "    accuracy                         0.5067       300\n",
      "   macro avg     0.4268    0.4703    0.3926       300\n",
      "weighted avg     0.4364    0.5067    0.4172       300\n",
      "\n",
      "[[141  23]\n",
      " [125  11]]\n"
     ]
    }
   ],
   "source": [
    "from sklearn import metrics\n",
    "classify_report = metrics.classification_report(pre, labels[:300], digits = 4) #分类报告 support测试集样本数\n",
    "print(classify_report) \n",
    "confusion_matrix = metrics.confusion_matrix(pre, labels[:300]) #混淆矩阵\n",
    "print(confusion_matrix) "
   ]
  },
  {
   "cell_type": "code",
   "execution_count": null,
   "id": "9cbc1e65",
   "metadata": {},
   "outputs": [],
   "source": []
  },
  {
   "cell_type": "code",
   "execution_count": 26,
   "id": "f369e106",
   "metadata": {},
   "outputs": [
    {
     "name": "stderr",
     "output_type": "stream",
     "text": [
      "Some weights of BertForSequenceClassification were not initialized from the model checkpoint at E:\\code\\chinese-roberta-wwm-ext and are newly initialized: ['classifier.weight', 'classifier.bias']\n",
      "You should probably TRAIN this model on a down-stream task to be able to use it for predictions and inference.\n",
      "Failed to determine 'entailment' label id from the label2id mapping in the model config. Setting to -1. Define a descriptive label2id mapping in the model config to ensure correct outputs.\n",
      "Asking to truncate to max_length but no maximum length is provided and the model has no predefined maximum length. Default to no truncation.\n"
     ]
    },
    {
     "data": {
      "text/plain": [
       "{'sequence': '2010年12月21日10时许，被告人王某趁武强县金音建筑工地工友张某不在宿舍之际，盗窃张某枕头下现金3500元。',\n",
       " 'labels': ['盗窃', '危险驾驶', '抢劫', '走私、贩卖、运输、制造毒品'],\n",
       " 'scores': [0.25567951798439026,\n",
       "  0.2530823349952698,\n",
       "  0.2519243657588959,\n",
       "  0.2393137663602829]}"
      ]
     },
     "execution_count": 26,
     "metadata": {},
     "output_type": "execute_result"
    }
   ],
   "source": [
    "classifier(\n",
    "    \"2010年12月21日10时许，被告人王某趁武强县金音建筑工地工友张某不在宿舍之际，盗窃张某枕头下现金3500元。\",\n",
    "    candidate_labels=[\"盗窃\", \"抢劫\", \"走私、贩卖、运输、制造毒品\", \"危险驾驶\"],\n",
    "    hypothesis_template = \"这条陈述的罪名是{}。\"\n",
    ")"
   ]
  },
  {
   "cell_type": "code",
   "execution_count": 22,
   "id": "733e2a15",
   "metadata": {},
   "outputs": [
    {
     "data": {
      "text/plain": [
       "{'sequence': '你好！我有脚气十几年了，手也脱皮，是不是真菌感染，可以吃伊曲康唑吗？',\n",
       " 'labels': ['皮肤科', '呼吸内科', '耳鼻喉科', '妇科', '小儿内科', '内分泌科'],\n",
       " 'scores': [0.16989482939243317,\n",
       "  0.16912688314914703,\n",
       "  0.16610512137413025,\n",
       "  0.1659039705991745,\n",
       "  0.16448993980884552,\n",
       "  0.16447928547859192]}"
      ]
     },
     "execution_count": 22,
     "metadata": {},
     "output_type": "execute_result"
    }
   ],
   "source": [
    "classifier(\n",
    "    \"你好！我有脚气十几年了，手也脱皮，是不是真菌感染，可以吃伊曲康唑吗？\",\n",
    "    candidate_labels=[\"小儿内科\", \"妇科\", \"皮肤科\", \"呼吸内科\", \"内分泌科\", \"耳鼻喉科\"]\n",
    ")"
   ]
  },
  {
   "cell_type": "code",
   "execution_count": null,
   "id": "c5c8be7e",
   "metadata": {},
   "outputs": [],
   "source": []
  },
  {
   "cell_type": "code",
   "execution_count": 11,
   "id": "a7b131b9",
   "metadata": {},
   "outputs": [
    {
     "name": "stderr",
     "output_type": "stream",
     "text": [
      "Some weights of the model checkpoint at E:\\code\\chinese-roberta-wwm-ext were not used when initializing BertForMaskedLM: ['cls.seq_relationship.bias', 'bert.pooler.dense.bias', 'bert.pooler.dense.weight', 'cls.seq_relationship.weight']\n",
      "- This IS expected if you are initializing BertForMaskedLM from the checkpoint of a model trained on another task or with another architecture (e.g. initializing a BertForSequenceClassification model from a BertForPreTraining model).\n",
      "- This IS NOT expected if you are initializing BertForMaskedLM from the checkpoint of a model that you expect to be exactly identical (initializing a BertForSequenceClassification model from a BertForSequenceClassification model).\n"
     ]
    },
    {
     "name": "stdout",
     "output_type": "stream",
     "text": [
      "[{'score': 0.8795590400695801, 'token': 3221, 'token_str': '是', 'sequence': '这 条 陈 述 的 罪 名 是 危 险 驾 驶 吗 ？ 答 案 是 是 。 2010 年 12 月 21 日 10 时 许 ， 被 告 人 王 某 趁 武 强 县 金 音 建 筑 工 地 工 友 张 某 不 在 宿 舍 之 际 ， 盗 窃 张 某 枕 头 下 现 金 3500 元 。'}, {'score': 0.05487998574972153, 'token': 4638, 'token_str': '的', 'sequence': '这 条 陈 述 的 罪 名 是 危 险 驾 驶 吗 ？ 答 案 是 的 。 2010 年 12 月 21 日 10 时 许 ， 被 告 人 王 某 趁 武 强 县 金 音 建 筑 工 地 工 友 张 某 不 在 宿 舍 之 际 ， 盗 窃 张 某 枕 头 下 现 金 3500 元 。'}, {'score': 0.016319895163178444, 'token': 679, 'token_str': '不', 'sequence': '这 条 陈 述 的 罪 名 是 危 险 驾 驶 吗 ？ 答 案 是 不 。 2010 年 12 月 21 日 10 时 许 ， 被 告 人 王 某 趁 武 强 县 金 音 建 筑 工 地 工 友 张 某 不 在 宿 舍 之 际 ， 盗 窃 张 某 枕 头 下 现 金 3500 元 。'}, {'score': 0.008570448495447636, 'token': 2190, 'token_str': '对', 'sequence': '这 条 陈 述 的 罪 名 是 危 险 驾 驶 吗 ？ 答 案 是 对 。 2010 年 12 月 21 日 10 时 许 ， 被 告 人 王 某 趁 武 强 县 金 音 建 筑 工 地 工 友 张 某 不 在 宿 舍 之 际 ， 盗 窃 张 某 枕 头 下 现 金 3500 元 。'}, {'score': 0.0064257062040269375, 'token': 7231, 'token_str': '错', 'sequence': '这 条 陈 述 的 罪 名 是 危 险 驾 驶 吗 ？ 答 案 是 错 。 2010 年 12 月 21 日 10 时 许 ， 被 告 人 王 某 趁 武 强 县 金 音 建 筑 工 地 工 友 张 某 不 在 宿 舍 之 际 ， 盗 窃 张 某 枕 头 下 现 金 3500 元 。'}]\n",
      "0.8795590400695801\n"
     ]
    }
   ],
   "source": [
    "fill_mask = pipeline(\"fill-mask\", model=model_name_or_path)\n",
    "result = fill_mask(\"这条陈述的罪名是危险驾驶吗？答案是[MASK]。2010年12月21日10时许，被告人王某趁武强县金音建筑工地工友张某不在宿舍之际，盗窃张某枕头下现金3500元。\")\n",
    "\n",
    "print(result)\n",
    "print(result[0]['score'])"
   ]
  },
  {
   "cell_type": "code",
   "execution_count": null,
   "id": "31f28eb1",
   "metadata": {},
   "outputs": [],
   "source": []
  },
  {
   "cell_type": "code",
   "execution_count": 12,
   "id": "c0f37842",
   "metadata": {},
   "outputs": [
    {
     "name": "stderr",
     "output_type": "stream",
     "text": [
      "Some weights of the model checkpoint at E:\\code\\chinese-roberta-wwm-ext were not used when initializing BertForMaskedLM: ['cls.seq_relationship.bias', 'bert.pooler.dense.bias', 'bert.pooler.dense.weight', 'cls.seq_relationship.weight']\n",
      "- This IS expected if you are initializing BertForMaskedLM from the checkpoint of a model trained on another task or with another architecture (e.g. initializing a BertForSequenceClassification model from a BertForPreTraining model).\n",
      "- This IS NOT expected if you are initializing BertForMaskedLM from the checkpoint of a model that you expect to be exactly identical (initializing a BertForSequenceClassification model from a BertForSequenceClassification model).\n"
     ]
    },
    {
     "name": "stdout",
     "output_type": "stream",
     "text": [
      "{'score': 0.9837144017219543, 'token': 4668, 'token_str': '盗', 'sequence': '[CLS] 这 条 陈 述 的 罪 名 是 盗 [MASK] 。 2010 年 12 月 21 日 10 时 许 ， 被 告 人 王 某 趁 武 强 县 金 音 建 筑 工 地 工 友 张 某 不 在 宿 舍 之 际 ， 盗 窃 张 某 枕 头 下 现 金 3500 元 。 [SEP]'}\n",
      "{'score': 0.005338470917195082, 'token': 2843, 'token_str': '抢', 'sequence': '[CLS] 这 条 陈 述 的 罪 名 是 抢 [MASK] 。 2010 年 12 月 21 日 10 时 许 ， 被 告 人 王 某 趁 武 强 县 金 音 建 筑 工 地 工 友 张 某 不 在 宿 舍 之 际 ， 盗 窃 张 某 枕 头 下 现 金 3500 元 。 [SEP]'}\n",
      "{'score': 0.0021143672056496143, 'token': 4961, 'token_str': '窃', 'sequence': '[CLS] 这 条 陈 述 的 罪 名 是 窃 [MASK] 。 2010 年 12 月 21 日 10 时 许 ， 被 告 人 王 某 趁 武 强 县 金 音 建 筑 工 地 工 友 张 某 不 在 宿 舍 之 际 ， 盗 窃 张 某 枕 头 下 现 金 3500 元 。 [SEP]'}\n",
      "{'score': 0.0015745058190077543, 'token': 4306, 'token_str': '犯', 'sequence': '[CLS] 这 条 陈 述 的 罪 名 是 犯 [MASK] 。 2010 年 12 月 21 日 10 时 许 ， 被 告 人 王 某 趁 武 强 县 金 音 建 筑 工 地 工 友 张 某 不 在 宿 舍 之 际 ， 盗 窃 张 某 枕 头 下 现 金 3500 元 。 [SEP]'}\n",
      "{'score': 0.001478593796491623, 'token': 6400, 'token_str': '诈', 'sequence': '[CLS] 这 条 陈 述 的 罪 名 是 诈 [MASK] 。 2010 年 12 月 21 日 10 时 许 ， 被 告 人 王 某 趁 武 强 县 金 音 建 筑 工 地 工 友 张 某 不 在 宿 舍 之 际 ， 盗 窃 张 某 枕 头 下 现 金 3500 元 。 [SEP]'}\n",
      "{'score': 0.9503907561302185, 'token': 4961, 'token_str': '窃', 'sequence': '[CLS] 这 条 陈 述 的 罪 名 是 [MASK] 窃 。 2010 年 12 月 21 日 10 时 许 ， 被 告 人 王 某 趁 武 强 县 金 音 建 筑 工 地 工 友 张 某 不 在 宿 舍 之 际 ， 盗 窃 张 某 枕 头 下 现 金 3500 元 。 [SEP]'}\n",
      "{'score': 0.030065840110182762, 'token': 4668, 'token_str': '盗', 'sequence': '[CLS] 这 条 陈 述 的 罪 名 是 [MASK] 盗 。 2010 年 12 月 21 日 10 时 许 ， 被 告 人 王 某 趁 武 强 县 金 音 建 筑 工 地 工 友 张 某 不 在 宿 舍 之 际 ， 盗 窃 张 某 枕 头 下 现 金 3500 元 。 [SEP]'}\n",
      "{'score': 0.009094804525375366, 'token': 5389, 'token_str': '罪', 'sequence': '[CLS] 这 条 陈 述 的 罪 名 是 [MASK] 罪 。 2010 年 12 月 21 日 10 时 许 ， 被 告 人 王 某 趁 武 强 县 金 音 建 筑 工 地 工 友 张 某 不 在 宿 舍 之 际 ， 盗 窃 张 某 枕 头 下 现 金 3500 元 。 [SEP]'}\n",
      "{'score': 0.003786010667681694, 'token': 1223, 'token_str': '劫', 'sequence': '[CLS] 这 条 陈 述 的 罪 名 是 [MASK] 劫 。 2010 年 12 月 21 日 10 时 许 ， 被 告 人 王 某 趁 武 强 县 金 音 建 筑 工 地 工 友 张 某 不 在 宿 舍 之 际 ， 盗 窃 张 某 枕 头 下 现 金 3500 元 。 [SEP]'}\n",
      "{'score': 0.001243037055246532, 'token': 7745, 'token_str': '骗', 'sequence': '[CLS] 这 条 陈 述 的 罪 名 是 [MASK] 骗 。 2010 年 12 月 21 日 10 时 许 ， 被 告 人 王 某 趁 武 强 县 金 音 建 筑 工 地 工 友 张 某 不 在 宿 舍 之 际 ， 盗 窃 张 某 枕 头 下 现 金 3500 元 。 [SEP]'}\n"
     ]
    }
   ],
   "source": [
    "from transformers import pipeline\n",
    "\n",
    "model_name_or_path=r\"E:\\code\\chinese-roberta-wwm-ext\"\n",
    "\n",
    "fill_mask = pipeline(\"fill-mask\", model=model_name_or_path)\n",
    "result = fill_mask(\"这条陈述的罪名是[MASK][MASK]。2010年12月21日10时许，被告人王某趁武强县金音建筑工地工友张某不在宿舍之际，盗窃张某枕头下现金3500元。\")\n",
    "\n",
    "for mask in result:\n",
    "    for sequence in mask:\n",
    "        print(sequence)"
   ]
  },
  {
   "cell_type": "code",
   "execution_count": null,
   "id": "2a9ae5a2",
   "metadata": {},
   "outputs": [],
   "source": []
  },
  {
   "cell_type": "code",
   "execution_count": null,
   "id": "68e6cc91",
   "metadata": {},
   "outputs": [],
   "source": []
  },
  {
   "cell_type": "code",
   "execution_count": null,
   "id": "ff55c2d9",
   "metadata": {},
   "outputs": [],
   "source": []
  },
  {
   "cell_type": "code",
   "execution_count": null,
   "id": "55870ef4",
   "metadata": {},
   "outputs": [],
   "source": []
  }
 ],
 "metadata": {
  "kernelspec": {
   "display_name": "torchgpu",
   "language": "python",
   "name": "torchgpu"
  },
  "language_info": {
   "codemirror_mode": {
    "name": "ipython",
    "version": 3
   },
   "file_extension": ".py",
   "mimetype": "text/x-python",
   "name": "python",
   "nbconvert_exporter": "python",
   "pygments_lexer": "ipython3",
   "version": "3.8.18"
  }
 },
 "nbformat": 4,
 "nbformat_minor": 5
}
