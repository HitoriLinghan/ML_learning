{
 "cells": [
  {
   "cell_type": "code",
   "execution_count": 15,
   "metadata": {},
   "outputs": [],
   "source": [
    "from sklearn.feature_extraction.text import CountVectorizer\n",
    "from sklearn.feature_extraction.text import TfidfVectorizer"
   ]
  },
  {
   "cell_type": "code",
   "execution_count": 5,
   "metadata": {},
   "outputs": [],
   "source": [
    "# 实例化分词对象\n",
    "vec = CountVectorizer(token_pattern='[\\u4e00-\\u9fa5_a-zA-Z0-9]{1,}')\n",
    " \n",
    "# 将文本进行词袋处理\n",
    "corpus = [\"我 送 你 离开 千里之外\",\n",
    "        \"你 无声 黑白\",\n",
    "        \"你 你 你 离开 天涯之外\",\n",
    "        \"你 是否 还在\"]"
   ]
  },
  {
   "cell_type": "code",
   "execution_count": 6,
   "metadata": {},
   "outputs": [
    {
     "name": "stdout",
     "output_type": "stream",
     "text": [
      "  (0, 1)\t1\n",
      "  (0, 6)\t1\n",
      "  (0, 0)\t1\n",
      "  (0, 8)\t1\n",
      "  (0, 3)\t1\n",
      "  (1, 9)\t1\n",
      "  (1, 4)\t1\n",
      "  (1, 0)\t1\n",
      "  (2, 2)\t1\n",
      "  (2, 6)\t1\n",
      "  (2, 0)\t3\n",
      "  (3, 7)\t1\n",
      "  (3, 5)\t1\n",
      "  (3, 0)\t1\n"
     ]
    }
   ],
   "source": [
    "X = vec.fit_transform(corpus)\n",
    "print(X)"
   ]
  },
  {
   "cell_type": "code",
   "execution_count": 7,
   "metadata": {},
   "outputs": [
    {
     "name": "stdout",
     "output_type": "stream",
     "text": [
      "['你', '千里之外', '天涯之外', '我', '无声', '是否', '离开', '还在', '送', '黑白']\n"
     ]
    }
   ],
   "source": [
    "fnames = vec.get_feature_names()\n",
    "print(fnames)"
   ]
  },
  {
   "cell_type": "code",
   "execution_count": 8,
   "metadata": {},
   "outputs": [
    {
     "name": "stdout",
     "output_type": "stream",
     "text": [
      "[[1 1 0 1 0 0 1 0 1 0]\n",
      " [1 0 0 0 1 0 0 0 0 1]\n",
      " [3 0 1 0 0 0 1 0 0 0]\n",
      " [1 0 0 0 0 1 0 1 0 0]]\n"
     ]
    }
   ],
   "source": [
    "arr = X.toarray()\n",
    "print(arr)"
   ]
  },
  {
   "cell_type": "code",
   "execution_count": 18,
   "metadata": {},
   "outputs": [
    {
     "name": "stdout",
     "output_type": "stream",
     "text": [
      "{'我': 3, '送': 8, '你': 0, '离开': 6, '千里之外': 1, '无声': 4, '黑白': 9, '天涯之外': 2, '是否': 5, '还在': 7}\n",
      "[1.         1.91629073 1.91629073 1.91629073 1.91629073 1.91629073\n",
      " 1.51082562 1.91629073 1.91629073 1.91629073]\n"
     ]
    }
   ],
   "source": [
    "#TFIDF模型\n",
    "# 建立transform\n",
    "vectorizer = TfidfVectorizer(token_pattern='[\\u4e00-\\u9fa5_a-zA-Z0-9]{1,}')\n",
    "#建立词汇表\n",
    "vectorizer.fit(corpus)\n",
    "# 输出结果\n",
    "print(vectorizer.vocabulary_)\n",
    "print(vectorizer.idf_)"
   ]
  },
  {
   "cell_type": "code",
   "execution_count": 20,
   "metadata": {},
   "outputs": [
    {
     "name": "stdout",
     "output_type": "stream",
     "text": [
      "(1, 10)\n",
      "[[0.26445122 0.50676543 0.         0.50676543 0.         0.\n",
      "  0.39953968 0.         0.50676543 0.        ]]\n"
     ]
    }
   ],
   "source": [
    "# 编码文件\n",
    "vector = vectorizer.transform([corpus])\n",
    "# 输出编码结果\n",
    "print(vector.shape)\n",
    "print(vector.toarray())"
   ]
  },
  {
   "cell_type": "code",
   "execution_count": null,
   "metadata": {},
   "outputs": [],
   "source": []
  }
 ],
 "metadata": {
  "kernelspec": {
   "display_name": "Python 3",
   "language": "python",
   "name": "python3"
  },
  "language_info": {
   "codemirror_mode": {
    "name": "ipython",
    "version": 3
   },
   "file_extension": ".py",
   "mimetype": "text/x-python",
   "name": "python",
   "nbconvert_exporter": "python",
   "pygments_lexer": "ipython3",
   "version": "3.7.3"
  }
 },
 "nbformat": 4,
 "nbformat_minor": 2
}
