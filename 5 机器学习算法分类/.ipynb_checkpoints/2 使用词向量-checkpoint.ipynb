{
 "cells": [
  {
   "cell_type": "code",
   "execution_count": 11,
   "metadata": {},
   "outputs": [],
   "source": [
    "from sklearn import svm\n",
    "from sklearn.naive_bayes import GaussianNB\n",
    "from sklearn.metrics import classification_report\n",
    "from sklearn.ensemble import RandomForestClassifier\n",
    "import random\n",
    "from sklearn.feature_extraction.text import TfidfVectorizer\n",
    "from sklearn.feature_extraction.text import CountVectorizer\n",
    "from sklearn import metrics\n",
    "import numpy\n",
    "from sklearn.model_selection import train_test_split\n",
    "import pandas as pd\n",
    "from collections import Counter\n",
    "import matplotlib.pyplot as plt\n",
    "import matplotlib\n",
    "import numpy as np\n",
    "from gensim.models import KeyedVectors"
   ]
  },
  {
   "cell_type": "code",
   "execution_count": 2,
   "metadata": {},
   "outputs": [
    {
     "name": "stdout",
     "output_type": "stream",
     "text": [
      "                                                  文本  标签\n",
      "0                       商业秘密 秘密性 维系 商业价值 垄断 地位 前提条件    0\n",
      "1  南口 阿玛施 新春 第一批 限量 春装 店 春暖花开 淑女 裙冰 蓝色 公主 衫 气质 粉小...   1\n",
      "2                                 带给 常州 一场 壮观 视觉 盛宴    0\n",
      "3                                     原因 不明 泌尿系统 结石    0\n",
      "4                                    年 盐城 拉回来 麻麻 嫁妆    0\n"
     ]
    }
   ],
   "source": [
    "#读取数据\n",
    "df = pd.read_csv('分词后data.csv')\n",
    "df = df.dropna()\n",
    "print(df.head())"
   ]
  },
  {
   "cell_type": "code",
   "execution_count": 3,
   "metadata": {},
   "outputs": [
    {
     "name": "stdout",
     "output_type": "stream",
     "text": [
      "1241 1241\n",
      "Counter({0: 1119, 1: 122})\n"
     ]
    }
   ],
   "source": [
    "data = df['文本'].tolist()\n",
    "label = df['标签'].tolist()\n",
    "print(len(data), len(label)) #查看语料信息\n",
    "print(Counter(label)) #查看不同标签文本数量"
   ]
  },
  {
   "cell_type": "code",
   "execution_count": 4,
   "metadata": {},
   "outputs": [
    {
     "name": "stdout",
     "output_type": "stream",
     "text": [
      "[['地理位置', '算', '酒店', '房间', '有点', '旧', '影响', '房间', '隔音', '比较', '差', '旁边', '进出', '房间', '说话', '听', '清楚', '影响', '睡觉'], ['补充', '点评', '年月日', '这家', '酒店', '服务', '从前', '设施', '旧', '以后', '不住'], ['儿子', '这是', '一本', '自已', '想要', '买', '整天', '哈哈大笑', '搞笑', '搞笑', '书', '知识性', '趣味性', '强', '成年人', '想', '一口气', '完一', '本书', '感觉', '有所', '收获', '知识性', '肤浅', '那种', '主要', '书', '中以', '形式', '讲述', '教会', '孩子', '应对', '危机', '方法', '实用', '一套', '好书', '值得', '值得', '收藏', '反正', '国内', '大部分', '出版社', '版', '所谓', '名著', '价值'], ['性能', '太', '价格', '太高'], ['那段', '神秘', '历史', '那段', '岁月', '文化', '那段', '深化', '之中', '古老', '之上', '流行', '骑', '艳丽', '年轻', '尽情', '本书', '中', '享受', '心里', '住', '慢慢', '慢慢', '本书', '指引', '延长', '不朽', '象征', '这是', '文明', '这是', '人类', '思维', '想']]\n"
     ]
    }
   ],
   "source": [
    "texts = [each.split() for each in data]\n",
    "print(texts[0:5])"
   ]
  },
  {
   "cell_type": "code",
   "execution_count": 4,
   "metadata": {},
   "outputs": [
    {
     "data": {
      "image/png": "[encoded data removed]",
      "text/plain": [
       "<Figure size 432x288 with 1 Axes>"
      ]
     },
     "metadata": {
      "needs_background": "light"
     },
     "output_type": "display_data"
    }
   ],
   "source": [
    "sentence_length = [len(x.split()) for x in data] #得到数据所有的文本长度\n",
    "#画图\n",
    "matplotlib.rcParams['font.sans-serif'] = 'SimHei' #matplotlib画图显示中文\n",
    "plt.hist(sentence_length, 50, density = True)\n",
    "plt.xlim(0,60)\n",
    "plt.xlabel('文本长度')\n",
    "plt.ylabel('文本数量占比')\n",
    "plt.show()"
   ]
  },
  {
   "cell_type": "code",
   "execution_count": 5,
   "metadata": {},
   "outputs": [
    {
     "data": {
      "image/png": "[encoded data removed]",
      "text/plain": [
       "<Figure size 432x288 with 1 Axes>"
      ]
     },
     "metadata": {
      "needs_background": "light"
     },
     "output_type": "display_data"
    }
   ],
   "source": [
    "plt.hist(sentence_length, 50, density = True, cumulative=True)\n",
    "plt.xlim(0,30)\n",
    "plt.xlabel('文本长度')\n",
    "plt.ylabel('文本数量累计占比')\n",
    "plt.show()"
   ]
  },
  {
   "cell_type": "code",
   "execution_count": 6,
   "metadata": {},
   "outputs": [],
   "source": [
    "#划分训练数据和测试数据\n",
    "train_sets, test_sets, train_label, test_label = train_test_split(data, label, test_size=0.3, random_state=42)"
   ]
  },
  {
   "cell_type": "code",
   "execution_count": 7,
   "metadata": {},
   "outputs": [
    {
     "name": "stdout",
     "output_type": "stream",
     "text": [
      "868 868\n",
      "373 373\n"
     ]
    }
   ],
   "source": [
    "print(len(train_sets), len(train_label))\n",
    "print(len(test_sets), len(test_label))"
   ]
  },
  {
   "cell_type": "code",
   "execution_count": 8,
   "metadata": {},
   "outputs": [
    {
     "name": "stdout",
     "output_type": "stream",
     "text": [
      "['菊叶 蛋汤 清补 江苏省 中医院 营养 科 营养师 汪燕 夏天 贪凉 食易伤 脾胃 ', '年 月 任教于 呼和浩特 新城区 苏虎街 实验 小学 ', '如果说 认了 亲戚 代表 腐败 ', '尊敬 客户 欢迎 致电 本店 公司 店 联营 万套 房源 多家 银行 合作 另本 公司 代理 多个 一手 房 楼盘 专业 团队 竭诚 为您服务 预约 ', '同事 浙江 西塘 带 回来 礼物 ']\n",
      "[0, 0, 0, 1, 0]\n"
     ]
    }
   ],
   "source": [
    "print(train_sets[0:5])\n",
    "print(train_label[0:5])"
   ]
  },
  {
   "cell_type": "code",
   "execution_count": 12,
   "metadata": {},
   "outputs": [],
   "source": [
    "#word2vec词向量\n",
    "cn_model = KeyedVectors.load_word2vec_format('F:/sgns.weibo.word.bz2', binary=False)"
   ]
  },
  {
   "cell_type": "code",
   "execution_count": 13,
   "metadata": {},
   "outputs": [],
   "source": [
    "#对每个句子的所有词向量取均值，来生成一个句子的vector\n",
    "def build_sentence_vector(sentence,size,w2v_model):\n",
    "    sen_vec=np.zeros(size).reshape((1,size))\n",
    "    count=0\n",
    "    for word in sentence:\n",
    "        try:\n",
    "            sen_vec+=w2v_model[word].reshape((1,size))\n",
    "            count+=1\n",
    "        except KeyError:\n",
    "            continue\n",
    "    if count!=0:\n",
    "        sen_vec/=count\n",
    "    return sen_vec"
   ]
  },
  {
   "cell_type": "code",
   "execution_count": 16,
   "metadata": {},
   "outputs": [],
   "source": [
    "train_data = np.zeros([len(train_sets),300], dtype = float)\n",
    "for i in range(0, len(train_sets)):\n",
    "    train_data[i] = build_sentence_vector(train_sets[i], 300, cn_model)"
   ]
  },
  {
   "cell_type": "code",
   "execution_count": 17,
   "metadata": {},
   "outputs": [],
   "source": [
    "test_data = np.zeros([len(test_sets),300], dtype = float)\n",
    "for i in range(0, len(test_sets)):\n",
    "    test_data[i] = build_sentence_vector(test_sets[i], 300, cn_model)"
   ]
  },
  {
   "cell_type": "code",
   "execution_count": 18,
   "metadata": {},
   "outputs": [
    {
     "name": "stdout",
     "output_type": "stream",
     "text": [
      "(868, 300)\n"
     ]
    }
   ],
   "source": [
    "print(train_data.shape)"
   ]
  },
  {
   "cell_type": "code",
   "execution_count": 20,
   "metadata": {},
   "outputs": [],
   "source": [
    "#创建svm分类器\n",
    "clf = svm.SVC(C=20, kernel='rbf', gamma=0.1)\n",
    "#训练模型\n",
    "svm_clf = clf.fit(train_data, train_label)"
   ]
  },
  {
   "cell_type": "code",
   "execution_count": 23,
   "metadata": {},
   "outputs": [
    {
     "name": "stdout",
     "output_type": "stream",
     "text": [
      "[0 0 0 0 0 0 0 0 0 0 0 0 0 0 0 0 0 0 0 0 0 0 0 0 0 0 0 0 0 0 0 0 1 0 0 1 0\n",
      " 1 0 0 0 0 0 0 0 0 1 0 0 0]\n"
     ]
    }
   ],
   "source": [
    "#推断预测集的分类结果\n",
    "pre_label = svm_clf.predict(test_data)\n",
    "print(pre_label[0:50])"
   ]
  },
  {
   "cell_type": "code",
   "execution_count": 24,
   "metadata": {},
   "outputs": [
    {
     "name": "stdout",
     "output_type": "stream",
     "text": [
      "0.8048780487804879\n",
      "0.825\n",
      "0.8148148148148149\n"
     ]
    }
   ],
   "source": [
    "#计算准确率和召回率。\n",
    "p = metrics.precision_score(test_label, pre_label, average='binary') #准确率\n",
    "r = metrics.recall_score(test_label, pre_label, average='binary') #召回率\n",
    "f1score = metrics.f1_score(test_label, pre_label, average='binary') #f值\n",
    " \n",
    "print(p)\n",
    "print(r)\n",
    "print(f1score)"
   ]
  },
  {
   "cell_type": "code",
   "execution_count": 25,
   "metadata": {},
   "outputs": [
    {
     "name": "stdout",
     "output_type": "stream",
     "text": [
      "              precision    recall  f1-score   support\n",
      "\n",
      "        正常短信     0.9789    0.9760    0.9774       333\n",
      "        垃圾短信     0.8049    0.8250    0.8148        40\n",
      "\n",
      "    accuracy                         0.9598       373\n",
      "   macro avg     0.8919    0.9005    0.8961       373\n",
      "weighted avg     0.9603    0.9598    0.9600       373\n",
      "\n"
     ]
    }
   ],
   "source": [
    "#输出结果报告\n",
    "print(classification_report(test_label, pre_label, digits=4, target_names = ['正常短信', '垃圾短信']))"
   ]
  },
  {
   "cell_type": "code",
   "execution_count": 27,
   "metadata": {},
   "outputs": [
    {
     "name": "stdout",
     "output_type": "stream",
     "text": [
      "[[325   8]\n",
      " [  7  33]]\n"
     ]
    }
   ],
   "source": [
    "#输出混淆矩阵\n",
    "confusion_matrix = metrics.confusion_matrix(test_label, pre_label) #混淆矩阵\n",
    "print(confusion_matrix) "
   ]
  },
  {
   "cell_type": "code",
   "execution_count": null,
   "metadata": {},
   "outputs": [],
   "source": []
  },
  {
   "cell_type": "code",
   "execution_count": 28,
   "metadata": {},
   "outputs": [
    {
     "name": "stdout",
     "output_type": "stream",
     "text": [
      "[1]\n"
     ]
    }
   ],
   "source": [
    "#预测新语句\n",
    "inputs = build_sentence_vector(\"尊敬 会员 你好 建设路 意尔康 专卖店 依旧 换 新\", 300, cn_model)\n",
    "print(svm_clf.predict(inputs))"
   ]
  },
  {
   "cell_type": "code",
   "execution_count": 29,
   "metadata": {},
   "outputs": [
    {
     "name": "stdout",
     "output_type": "stream",
     "text": [
      "{'C': 10.049999999999999, 'gamma': 0.1, 'kernel': 'rbf'}\n",
      "0.9597855227882037\n"
     ]
    }
   ],
   "source": [
    "#网格搜索，寻找最优参数\n",
    "from sklearn.model_selection import GridSearchCV\n",
    "parameters={'kernel':['linear','rbf'],'C':np.linspace(0.1,20,5),'gamma':np.linspace(0.1,20,5)}\n",
    "svc = svm.SVC()\n",
    "model = GridSearchCV(svc,parameters,cv=5,scoring='accuracy')\n",
    "model.fit(train_data, train_label)\n",
    "print(model.best_params_)\n",
    "print(model.score(test_data,test_label))"
   ]
  },
  {
   "cell_type": "code",
   "execution_count": null,
   "metadata": {},
   "outputs": [],
   "source": []
  },
  {
   "cell_type": "code",
   "execution_count": 31,
   "metadata": {},
   "outputs": [],
   "source": [
    "#保存模型\n",
    "import pickle"
   ]
  },
  {
   "cell_type": "code",
   "execution_count": 32,
   "metadata": {},
   "outputs": [],
   "source": [
    "s=pickle.dumps(svm_clf)\n",
    "f=open('svm.model', \"wb+\")\n",
    "f.write(s)\n",
    "f.close()"
   ]
  },
  {
   "cell_type": "code",
   "execution_count": 33,
   "metadata": {},
   "outputs": [],
   "source": [
    "#读取模型，判断新的句子\n",
    "f2=open('svm.model','rb')\n",
    "s2=f2.read()\n",
    "f2.close()\n",
    "model1=pickle.loads(s2)\n"
   ]
  },
  {
   "cell_type": "code",
   "execution_count": 34,
   "metadata": {},
   "outputs": [
    {
     "name": "stdout",
     "output_type": "stream",
     "text": [
      "[0]\n"
     ]
    }
   ],
   "source": [
    "inputs = build_sentence_vector(\"作者 长篇大论 借用 详细\", 300, cn_model)\n",
    "print(model1.predict(inputs))"
   ]
  },
  {
   "cell_type": "code",
   "execution_count": null,
   "metadata": {},
   "outputs": [],
   "source": []
  },
  {
   "cell_type": "code",
   "execution_count": 35,
   "metadata": {},
   "outputs": [
    {
     "data": {
      "text/plain": [
       "GaussianNB()"
      ]
     },
     "execution_count": 35,
     "metadata": {},
     "output_type": "execute_result"
    }
   ],
   "source": [
    "#使用朴素贝叶斯进行训练\n",
    "mnb = GaussianNB()   # 使用默认配置初始化朴素贝叶斯\n",
    "mnb.fit(train_data, train_label)    # 利用训练数据对模型参数进行估计"
   ]
  },
  {
   "cell_type": "code",
   "execution_count": 36,
   "metadata": {},
   "outputs": [
    {
     "name": "stdout",
     "output_type": "stream",
     "text": [
      "              precision    recall  f1-score   support\n",
      "\n",
      "        正常短信     0.9967    0.9159    0.9546       333\n",
      "        垃圾短信     0.5821    0.9750    0.7290        40\n",
      "\n",
      "    accuracy                         0.9223       373\n",
      "   macro avg     0.7894    0.9455    0.8418       373\n",
      "weighted avg     0.9523    0.9223    0.9304       373\n",
      "\n"
     ]
    }
   ],
   "source": [
    "#推断预测集的分类结果\n",
    "pre_label = mnb.predict(test_data)\n",
    "print(classification_report(test_label, pre_label, digits=4, target_names = ['正常短信', '垃圾短信']))"
   ]
  },
  {
   "cell_type": "code",
   "execution_count": null,
   "metadata": {},
   "outputs": [],
   "source": []
  },
  {
   "cell_type": "code",
   "execution_count": 37,
   "metadata": {},
   "outputs": [
    {
     "data": {
      "text/plain": [
       "RandomForestClassifier()"
      ]
     },
     "execution_count": 37,
     "metadata": {},
     "output_type": "execute_result"
    }
   ],
   "source": [
    "#使用随机森林进行训练\n",
    "rf_clf = RandomForestClassifier()\n",
    "rf_clf.fit(train_data, train_label) "
   ]
  },
  {
   "cell_type": "code",
   "execution_count": 38,
   "metadata": {},
   "outputs": [
    {
     "name": "stdout",
     "output_type": "stream",
     "text": [
      "              precision    recall  f1-score   support\n",
      "\n",
      "        正常短信     0.9000    1.0000    0.9474       333\n",
      "        垃圾短信     1.0000    0.0750    0.1395        40\n",
      "\n",
      "    accuracy                         0.9008       373\n",
      "   macro avg     0.9500    0.5375    0.5435       373\n",
      "weighted avg     0.9107    0.9008    0.8607       373\n",
      "\n"
     ]
    }
   ],
   "source": [
    "#推断预测集的分类结果\n",
    "pre_label = rf_clf.predict(test_data)\n",
    "print(classification_report(test_label, pre_label, digits=4, target_names = ['正常短信', '垃圾短信']))"
   ]
  },
  {
   "cell_type": "code",
   "execution_count": null,
   "metadata": {},
   "outputs": [],
   "source": []
  }
 ],
 "metadata": {
  "kernelspec": {
   "display_name": "Python 3 (ipykernel)",
   "language": "python",
   "name": "python3"
  },
  "language_info": {
   "codemirror_mode": {
    "name": "ipython",
    "version": 3
   },
   "file_extension": ".py",
   "mimetype": "text/x-python",
   "name": "python",
   "nbconvert_exporter": "python",
   "pygments_lexer": "ipython3",
   "version": "3.9.7"
  }
 },
 "nbformat": 4,
 "nbformat_minor": 2
}
