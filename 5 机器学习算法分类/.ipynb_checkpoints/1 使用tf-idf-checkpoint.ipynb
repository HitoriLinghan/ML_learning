{
 "cells": [
  {
   "cell_type": "code",
   "execution_count": 1,
   "metadata": {},
   "outputs": [],
   "source": [
    "from sklearn import svm\n",
    "from sklearn.naive_bayes import MultinomialNB\n",
    "from sklearn.metrics import classification_report\n",
    "from sklearn.ensemble import RandomForestClassifier\n",
    "import random\n",
    "from sklearn.feature_extraction.text import TfidfVectorizer\n",
    "from sklearn.feature_extraction.text import CountVectorizer\n",
    "from sklearn import metrics\n",
    "import numpy\n",
    "from sklearn.model_selection import train_test_split\n",
    "import pandas as pd\n",
    "from collections import Counter\n",
    "import matplotlib.pyplot as plt\n",
    "import matplotlib\n",
    "import numpy as np\n",
    "import seaborn as sns"
   ]
  },
  {
   "cell_type": "code",
   "execution_count": 2,
   "metadata": {},
   "outputs": [
    {
     "data": {
      "text/html": [
       "<div>\n",
       "<style scoped>\n",
       "    .dataframe tbody tr th:only-of-type {\n",
       "        vertical-align: middle;\n",
       "    }\n",
       "\n",
       "    .dataframe tbody tr th {\n",
       "        vertical-align: top;\n",
       "    }\n",
       "\n",
       "    .dataframe thead th {\n",
       "        text-align: right;\n",
       "    }\n",
       "</style>\n",
       "<table border=\"1\" class=\"dataframe\">\n",
       "  <thead>\n",
       "    <tr style=\"text-align: right;\">\n",
       "      <th></th>\n",
       "      <th>文本</th>\n",
       "      <th>标签</th>\n",
       "    </tr>\n",
       "  </thead>\n",
       "  <tbody>\n",
       "    <tr>\n",
       "      <th>0</th>\n",
       "      <td>商业秘密 秘密性 维系 商业价值 垄断 地位 前提条件</td>\n",
       "      <td>0</td>\n",
       "    </tr>\n",
       "    <tr>\n",
       "      <th>1</th>\n",
       "      <td>南口 阿玛施 新春 第一批 限量 春装 店 春暖花开 淑女 裙冰 蓝色 公主 衫 气质 粉小...</td>\n",
       "      <td>1</td>\n",
       "    </tr>\n",
       "    <tr>\n",
       "      <th>2</th>\n",
       "      <td>带给 常州 一场 壮观 视觉 盛宴</td>\n",
       "      <td>0</td>\n",
       "    </tr>\n",
       "    <tr>\n",
       "      <th>3</th>\n",
       "      <td>原因 不明 泌尿系统 结石</td>\n",
       "      <td>0</td>\n",
       "    </tr>\n",
       "    <tr>\n",
       "      <th>4</th>\n",
       "      <td>年 盐城 拉回来 麻麻 嫁妆</td>\n",
       "      <td>0</td>\n",
       "    </tr>\n",
       "  </tbody>\n",
       "</table>\n",
       "</div>"
      ],
      "text/plain": [
       "                                                  文本  标签\n",
       "0                       商业秘密 秘密性 维系 商业价值 垄断 地位 前提条件    0\n",
       "1  南口 阿玛施 新春 第一批 限量 春装 店 春暖花开 淑女 裙冰 蓝色 公主 衫 气质 粉小...   1\n",
       "2                                 带给 常州 一场 壮观 视觉 盛宴    0\n",
       "3                                     原因 不明 泌尿系统 结石    0\n",
       "4                                    年 盐城 拉回来 麻麻 嫁妆    0"
      ]
     },
     "execution_count": 2,
     "metadata": {},
     "output_type": "execute_result"
    }
   ],
   "source": [
    "#读取数据\n",
    "df = pd.read_csv('分词后data.csv')\n",
    "df = df.dropna()\n",
    "df.head()"
   ]
  },
  {
   "cell_type": "code",
   "execution_count": 3,
   "metadata": {},
   "outputs": [
    {
     "name": "stdout",
     "output_type": "stream",
     "text": [
      "1241 1241\n",
      "Counter({0: 1119, 1: 122})\n"
     ]
    }
   ],
   "source": [
    "data = df['文本'].tolist()\n",
    "label = df['标签'].tolist()\n",
    "print(len(data), len(label)) #查看语料信息\n",
    "print(Counter(label)) #查看不同标签文本数量"
   ]
  },
  {
   "cell_type": "code",
   "execution_count": 5,
   "metadata": {},
   "outputs": [
    {
     "name": "stdout",
     "output_type": "stream",
     "text": [
      "文本最长长度为 56\n"
     ]
    },
    {
     "data": {
      "image/png": "[encoded data removed]",
      "text/plain": [
       "<Figure size 432x288 with 1 Axes>"
      ]
     },
     "metadata": {
      "needs_background": "light"
     },
     "output_type": "display_data"
    }
   ],
   "source": [
    "sentence_length = [len(x.split()) for x in data] #得到数据所有的文本长度\n",
    "print(\"文本最长长度为\", max(sentence_length))\n",
    "#画图\n",
    "matplotlib.rcParams['font.sans-serif'] = 'SimHei' #matplotlib画图显示中文\n",
    "plt.hist(sentence_length, 50, density = True)\n",
    "plt.xlim(0,60)\n",
    "plt.xlabel('文本长度')\n",
    "plt.ylabel('文本数量占比')\n",
    "plt.show()"
   ]
  },
  {
   "cell_type": "code",
   "execution_count": 9,
   "metadata": {},
   "outputs": [
    {
     "data": {
      "image/png": "[encoded data removed]",
      "text/plain": [
       "<Figure size 432x288 with 1 Axes>"
      ]
     },
     "metadata": {
      "needs_background": "light"
     },
     "output_type": "display_data"
    }
   ],
   "source": [
    "plt.hist(sentence_length, 50, density = True, cumulative=True)\n",
    "plt.xlim(0,30)\n",
    "plt.xlabel('文本长度')\n",
    "plt.ylabel('文本数量累计占比')\n",
    "plt.show()"
   ]
  },
  {
   "cell_type": "code",
   "execution_count": null,
   "metadata": {},
   "outputs": [],
   "source": []
  },
  {
   "cell_type": "markdown",
   "metadata": {},
   "source": [
    "## 为什么要划分训练集和测试集\n",
    "\n",
    "划分训练集和测试集是为了评估机器学习模型的性能和泛化能力。训练集用于训练模型，使其能够学习数据中的模式和特征，而测试集则用于评估模型在未见过的数据上的表现。通过将数据划分为训练集和测试集，可以更好地了解模型在真实场景中的表现，并帮助避免过拟合（模型在训练集上表现很好，但在测试集上表现较差）的问题。"
   ]
  },
  {
   "cell_type": "code",
   "execution_count": 10,
   "metadata": {},
   "outputs": [],
   "source": [
    "#划分训练数据和测试数据\n",
    "train_sets, test_sets, train_label, test_label = train_test_split(data, label, test_size=0.3, random_state=42)"
   ]
  },
  {
   "cell_type": "code",
   "execution_count": 11,
   "metadata": {},
   "outputs": [
    {
     "name": "stdout",
     "output_type": "stream",
     "text": [
      "868 868\n",
      "373 373\n"
     ]
    }
   ],
   "source": [
    "print(len(train_sets), len(train_label))\n",
    "print(len(test_sets), len(test_label))"
   ]
  },
  {
   "cell_type": "code",
   "execution_count": 12,
   "metadata": {},
   "outputs": [
    {
     "name": "stdout",
     "output_type": "stream",
     "text": [
      "['菊叶 蛋汤 清补 江苏省 中医院 营养 科 营养师 汪燕 夏天 贪凉 食易伤 脾胃 ', '年 月 任教于 呼和浩特 新城区 苏虎街 实验 小学 ', '如果说 认了 亲戚 代表 腐败 ', '尊敬 客户 欢迎 致电 本店 公司 店 联营 万套 房源 多家 银行 合作 另本 公司 代理 多个 一手 房 楼盘 专业 团队 竭诚 为您服务 预约 ', '同事 浙江 西塘 带 回来 礼物 ']\n",
      "[0, 0, 0, 1, 0]\n"
     ]
    }
   ],
   "source": [
    "print(train_sets[0:5])\n",
    "print(train_label[0:5])"
   ]
  },
  {
   "cell_type": "code",
   "execution_count": 13,
   "metadata": {},
   "outputs": [],
   "source": [
    "#tf-idf\n",
    "v = TfidfVectorizer(token_pattern='[\\u4e00-\\u9fa5_a-zA-Z0-9]{1,}')\n",
    "train_data = v.fit_transform(train_sets)\n",
    "test_data = v.transform(test_sets)"
   ]
  },
  {
   "cell_type": "code",
   "execution_count": 14,
   "metadata": {},
   "outputs": [
    {
     "name": "stdout",
     "output_type": "stream",
     "text": [
      "(868, 4465)\n"
     ]
    }
   ],
   "source": [
    "print(train_data.shape)"
   ]
  },
  {
   "cell_type": "code",
   "execution_count": 15,
   "metadata": {},
   "outputs": [],
   "source": [
    "#创建svm分类器\n",
    "clf = svm.SVC(kernel='linear', C=1)\n",
    "#用训练集训练模型\n",
    "svm_clf = clf.fit(train_data, train_label)"
   ]
  },
  {
   "cell_type": "code",
   "execution_count": 16,
   "metadata": {},
   "outputs": [
    {
     "name": "stdout",
     "output_type": "stream",
     "text": [
      "[0 0 0 0 0 0 0 0 0 0 0 0 0 0 0 0 0 0 0 0 0 0 0 0 0 1 0 0 0 0 0 0 0 0 0 0 0\n",
      " 0 0 0 0 0 0 0 0 0 1 0 0 0]\n"
     ]
    }
   ],
   "source": [
    "#预测测试集的分类结果\n",
    "pre_label = svm_clf.predict(test_data)\n",
    "print(pre_label[0:50])"
   ]
  },
  {
   "cell_type": "code",
   "execution_count": 17,
   "metadata": {},
   "outputs": [
    {
     "name": "stdout",
     "output_type": "stream",
     "text": [
      "0.9166666666666666\n",
      "0.55\n",
      "0.6874999999999999\n"
     ]
    }
   ],
   "source": [
    "#计算准确率和召回率。\n",
    "p = metrics.precision_score(test_label, pre_label, average='binary') #准确率\n",
    "r = metrics.recall_score(test_label, pre_label, average='binary') #召回率\n",
    "f1score = metrics.f1_score(test_label, pre_label, average='binary') #f值\n",
    " \n",
    "print(p)\n",
    "print(r)\n",
    "print(f1score)"
   ]
  },
  {
   "cell_type": "markdown",
   "metadata": {},
   "source": [
    "## 模型评估指标\n",
    "\n",
    "当评估分类模型时，我们经常使用以下指标来衡量其性能：\n",
    "\n",
    "准确率（Accuracy）：预测正确的样本占总样本的比例。公式如下： $\\text{准确率} = \\frac{TP + TN}{TP + TN + FP + FN}$\n",
    "\n",
    "精确率（Precision）：在所有被预测为正例的样本中，实际为正例的比例。公式如下： $\\text{精确率} = \\frac{TP}{TP + FP}$\n",
    "\n",
    "召回率（Recall）：在所有实际为正例的样本中，被预测为正例的比例。公式如下：$\\text{召回率} = \\frac{TP}{TP + FN}$\n",
    "\n",
    "F1值：综合考虑精确率和召回率的调和平均数。公式如下： $F1 = \\frac{2 \\cdot \\text{Precision} \\cdot \\text{Recall}}{\\text{Precision} + \\text{Recall}}$\n",
    "\n",
    "其中：\n",
    "\n",
    "$TP$表示真正例（True Positives），即实际为正例且被预测为正例的样本数。\n",
    "\n",
    "$TN$表示真负例（True Negatives），即实际为负例且被预测为负例的样本数。\n",
    "\n",
    "$FP$表示假正例（False Positives），即实际为负例但被预测为正例的样本数。\n",
    "\n",
    "$FN$表示假负例（False Negatives），即实际为正例但被预测为负例的样本数。\n",
    "\n",
    "这些指标有助于评估模型的性能，确保在不同情况下都能获得准确且可靠的预测结果。"
   ]
  },
  {
   "cell_type": "code",
   "execution_count": 27,
   "metadata": {},
   "outputs": [
    {
     "name": "stdout",
     "output_type": "stream",
     "text": [
      "              precision    recall  f1-score   support\n",
      "\n",
      "        正常短信     0.9484    0.9940    0.9707       333\n",
      "        垃圾短信     0.9167    0.5500    0.6875        40\n",
      "\n",
      "    accuracy                         0.9464       373\n",
      "   macro avg     0.9325    0.7720    0.8291       373\n",
      "weighted avg     0.9450    0.9464    0.9403       373\n",
      "\n"
     ]
    }
   ],
   "source": [
    "#输出结果报告\n",
    "report = classification_report(test_label, pre_label, digits=4, target_names = ['正常短信', '垃圾短信'])\n",
    "print(report)"
   ]
  },
  {
   "cell_type": "code",
   "execution_count": 29,
   "metadata": {},
   "outputs": [
    {
     "data": {
      "text/html": [
       "<div>\n",
       "<style scoped>\n",
       "    .dataframe tbody tr th:only-of-type {\n",
       "        vertical-align: middle;\n",
       "    }\n",
       "\n",
       "    .dataframe tbody tr th {\n",
       "        vertical-align: top;\n",
       "    }\n",
       "\n",
       "    .dataframe thead th {\n",
       "        text-align: right;\n",
       "    }\n",
       "</style>\n",
       "<table border=\"1\" class=\"dataframe\">\n",
       "  <thead>\n",
       "    <tr style=\"text-align: right;\">\n",
       "      <th></th>\n",
       "      <th>precision</th>\n",
       "      <th>recall</th>\n",
       "      <th>f1-score</th>\n",
       "      <th>support</th>\n",
       "    </tr>\n",
       "  </thead>\n",
       "  <tbody>\n",
       "    <tr>\n",
       "      <th>正常短信</th>\n",
       "      <td>0.948424</td>\n",
       "      <td>0.993994</td>\n",
       "      <td>0.970674</td>\n",
       "      <td>333.000000</td>\n",
       "    </tr>\n",
       "    <tr>\n",
       "      <th>垃圾短信</th>\n",
       "      <td>0.916667</td>\n",
       "      <td>0.550000</td>\n",
       "      <td>0.687500</td>\n",
       "      <td>40.000000</td>\n",
       "    </tr>\n",
       "    <tr>\n",
       "      <th>accuracy</th>\n",
       "      <td>0.946381</td>\n",
       "      <td>0.946381</td>\n",
       "      <td>0.946381</td>\n",
       "      <td>0.946381</td>\n",
       "    </tr>\n",
       "    <tr>\n",
       "      <th>macro avg</th>\n",
       "      <td>0.932545</td>\n",
       "      <td>0.771997</td>\n",
       "      <td>0.829087</td>\n",
       "      <td>373.000000</td>\n",
       "    </tr>\n",
       "    <tr>\n",
       "      <th>weighted avg</th>\n",
       "      <td>0.945018</td>\n",
       "      <td>0.946381</td>\n",
       "      <td>0.940307</td>\n",
       "      <td>373.000000</td>\n",
       "    </tr>\n",
       "  </tbody>\n",
       "</table>\n",
       "</div>"
      ],
      "text/plain": [
       "              precision    recall  f1-score     support\n",
       "正常短信           0.948424  0.993994  0.970674  333.000000\n",
       "垃圾短信           0.916667  0.550000  0.687500   40.000000\n",
       "accuracy       0.946381  0.946381  0.946381    0.946381\n",
       "macro avg      0.932545  0.771997  0.829087  373.000000\n",
       "weighted avg   0.945018  0.946381  0.940307  373.000000"
      ]
     },
     "execution_count": 29,
     "metadata": {},
     "output_type": "execute_result"
    }
   ],
   "source": [
    "report = classification_report(test_label, pre_label, target_names = ['正常短信', '垃圾短信'], output_dict=True)\n",
    "df_report = pd.DataFrame(report).transpose()\n",
    "df_report"
   ]
  },
  {
   "cell_type": "code",
   "execution_count": 30,
   "metadata": {},
   "outputs": [
    {
     "data": {
      "text/plain": [
       "<AxesSubplot:>"
      ]
     },
     "execution_count": 30,
     "metadata": {},
     "output_type": "execute_result"
    },
    {
     "data": {
      "image/png": "[encoded data removed]",
      "text/plain": [
       "<Figure size 720x576 with 2 Axes>"
      ]
     },
     "metadata": {
      "needs_background": "light"
     },
     "output_type": "display_data"
    }
   ],
   "source": [
    "import seaborn as sns\n",
    "plt.figure(figsize=(10, 8))\n",
    "sns.heatmap(pd.DataFrame(report).iloc[:-1, :].T, annot=True)"
   ]
  },
  {
   "cell_type": "markdown",
   "metadata": {},
   "source": [
    "## 精确率很高，召回率很低\n",
    "\n",
    "精确率（Precision）较高、召回率（Recall）较低表示模型在识别正类别时较为谨慎，只有非常确信的情况下才会将样本归为正类别，因此它可能会错过一些正类别样本，从而导致召回率较低。\n",
    "\n",
    "造成这种现象的原因可能有多种：\n",
    "\n",
    "模型偏向于预测负类别：模型可能更倾向于预测样本为负类别，导致漏掉了一些正类别的样本，从而召回率降低。\n",
    "\n",
    "样本不平衡：如果正负样本数量差异很大，模型可能更倾向于预测为数量更多的负类别，从而导致召回率较低。\n",
    "\n",
    "模型设置过于保守：模型可能在决策边界上设置了较高的阈值，只有当非常确信时才会将样本预测为正类别，导致召回率降低。\n",
    "\n",
    "为了平衡精确率和召回率，可以调整模型的阈值、改善数据的质量和平衡样本分布、尝试不同的模型或特征工程等方法。\n",
    "\n",
    "## 宏平均（macro avg）和加权平均（weighted avg）\n",
    "\n",
    "在模型评估中，我们经常会遇到以下两个指标：**宏平均（macro avg）**和**加权平均（weighted avg）**。下面详细解释一下它们的含义：\n",
    "\n",
    "1. **宏平均（Macro Average）**：\n",
    "    - 宏平均是对每个类别的指标（如精确度、召回率、F1值等）进行算术平均，不考虑每个类别的样本数量。\n",
    "    - 具体计算方式如下：\n",
    "        - 对于每个类别，计算其指标（例如F1值）。\n",
    "        - 将所有类别的指标值相加，然后除以类别的总数。\n",
    "    - 宏平均适用于样本分布均匀的情况。\n",
    "\n",
    "2. **加权平均（Weighted Average）**：\n",
    "    - 加权平均考虑每个类别的样本数量作为权重，计算每个类别的指标，然后将它们加权平均。\n",
    "    - 具体计算方式如下：\n",
    "        - 对于每个类别，计算其指标（例如F1值）。\n",
    "        - 将每个类别的指标值乘以该类别样本数量在所有类别的样本总数的占比，然后相加。\n",
    "        - 最后除以总样本数量。\n",
    "    - 加权平均适用于样本分布不均衡的情况，能够更好地反映不同类别的贡献。\n",
    "\n",
    "因此，宏平均和加权平均都是用于综合评估模型性能的指标，具体选择哪个取决于数据集的特点和评估需求。"
   ]
  },
  {
   "cell_type": "code",
   "execution_count": 32,
   "metadata": {},
   "outputs": [
    {
     "name": "stdout",
     "output_type": "stream",
     "text": [
      "[[331   2]\n",
      " [ 18  22]]\n"
     ]
    }
   ],
   "source": [
    "#输出混淆矩阵\n",
    "confusion_matrix = metrics.confusion_matrix(test_label, pre_label) #混淆矩阵\n",
    "print(confusion_matrix) "
   ]
  },
  {
   "cell_type": "markdown",
   "metadata": {},
   "source": [
    "混淆矩阵（Confusion Matrix）是一种用于评估分类模型性能的标准格式，通常用于监督学习中比较分类结果和实际测得值。让我们来详细了解一下混淆矩阵的结构和含义。\n",
    "\n",
    "结构：混淆矩阵是一个 N×N 的矩阵，其中 N 代表分类标签的个数。例如，在二分类模型中，标签为1或0，N 为2；而在多分类模型中，标签可能有更多类别，N 为标签的数量。\n",
    "含义：混淆矩阵的每一列代表了模型的预测类别，每一行表示实际的类别。它总结了模型对样本进行分类的情况，将模型的预测结果与实际标签进行对比。\n",
    "矩阵值：混淆矩阵中的四个值分别是：\n",
    "True Positive (TP)：真正类。样本的真实类别是正类，并且模型识别的结果也是正类。\n",
    "True Negative (TN)：真负类。样本的真实类别是负类，并且模型识别的结果也是负类。\n",
    "False Positive (FP)：假正类。样本的真实类别是负类，但是模型将其识别为正类。\n",
    "False Negative (FN)：假负类。样本的真实类别是正类，但是模型将其识别为负类。\n",
    "这些值组成了一个基本的二分类混淆矩阵。通过混淆矩阵，我们可以计算出各种模型表现的评估指标，例如准确率、精确率、召回率、F1值等。"
   ]
  },
  {
   "cell_type": "code",
   "execution_count": 33,
   "metadata": {},
   "outputs": [
    {
     "data": {
      "image/png": "[encoded data removed]",
      "text/plain": [
       "<Figure size 432x288 with 2 Axes>"
      ]
     },
     "metadata": {},
     "output_type": "display_data"
    }
   ],
   "source": [
    "plt.figure()\n",
    "rc = {'font.sans-serif': 'SimHei',\n",
    "      'axes.unicode_minus': False} #设置字体样式 字体负号显示\n",
    "sns.set(context='notebook', style='ticks', font_scale=1.2, rc=rc)\n",
    "sns.heatmap(confusion_matrix, annot=True, fmt='d', cmap='Blues', xticklabels=['正常短信', '垃圾短信'], yticklabels=['正常短信', '垃圾短信'])\n",
    "plt.xlabel('预测值')\n",
    "plt.ylabel('真实值')\n",
    "plt.title('混淆矩阵')\n",
    "plt.show()"
   ]
  },
  {
   "cell_type": "code",
   "execution_count": 65,
   "metadata": {},
   "outputs": [
    {
     "name": "stdout",
     "output_type": "stream",
     "text": [
      "{'C': 5.074999999999999, 'gamma': 0.1, 'kernel': 'linear'}\n",
      "0.9597855227882037\n"
     ]
    }
   ],
   "source": [
    "#网格搜索，寻找最优参数\n",
    "from sklearn.model_selection import GridSearchCV\n",
    "parameters={'kernel':['linear','rbf'],'C':np.linspace(0.1,20,5),'gamma':np.linspace(0.1,20,5)}\n",
    "svc = svm.SVC()\n",
    "model = GridSearchCV(svc,parameters,cv=5,scoring='accuracy')\n",
    "model.fit(train_data, train_label)\n",
    "print(model.best_params_)\n",
    "print(model.score(test_data,test_label))"
   ]
  },
  {
   "cell_type": "markdown",
   "metadata": {},
   "source": [
    "## 网格搜索\n",
    "\n",
    "网格搜索（Grid Search）是一种模型超参数优化技术，常用于优化三个或更少数量的超参数。它本质上是一种穷举法。\n",
    "\n",
    "具体来说，网格搜索的步骤如下：\n",
    "\n",
    "1. 给定一系列超参数，例如学习率、决策树的最大深度、神经网络的层数等。\n",
    "2. 为每个超参数设定一组候选值。\n",
    "3. 生成这些候选值的笛卡尔积，形成超参数的组合网格。\n",
    "4.对每个超参数组合进行模型训练和评估，从中选出性能最佳的超参数组合。\n",
    "\n",
    "网格搜索的优点是简单易懂，适用于超参数数量较少的情况。然而，它的缺点是计算量较大，当超参数的数量和候选值较多时，搜索空间会急剧增大，导致搜索效率低下"
   ]
  },
  {
   "cell_type": "code",
   "execution_count": 60,
   "metadata": {},
   "outputs": [
    {
     "name": "stdout",
     "output_type": "stream",
     "text": [
      "[1]\n"
     ]
    }
   ],
   "source": [
    "#预测新语句\n",
    "inputs = v.transform([\"尊敬 会员 你好 建设路 意尔康 专卖店 依旧 换 新\"])\n",
    "print(svm_clf.predict(inputs))"
   ]
  },
  {
   "cell_type": "code",
   "execution_count": 48,
   "metadata": {},
   "outputs": [],
   "source": [
    "#保存模型\n",
    "import pickle"
   ]
  },
  {
   "cell_type": "code",
   "execution_count": 49,
   "metadata": {},
   "outputs": [],
   "source": [
    "s=pickle.dumps(svm_clf)\n",
    "f=open('svm.model', \"wb+\")\n",
    "f.write(s)\n",
    "f.close()"
   ]
  },
  {
   "cell_type": "code",
   "execution_count": 50,
   "metadata": {},
   "outputs": [],
   "source": [
    "#读取模型，判断新的句子\n",
    "f2=open('svm.model','rb')\n",
    "s2=f2.read()\n",
    "f2.close()\n",
    "model1=pickle.loads(s2)\n"
   ]
  },
  {
   "cell_type": "code",
   "execution_count": 51,
   "metadata": {},
   "outputs": [
    {
     "name": "stdout",
     "output_type": "stream",
     "text": [
      "[0]\n"
     ]
    }
   ],
   "source": [
    "inputs = v.transform([\"作者 长篇大论 借用 详细\"])\n",
    "print(model1.predict(inputs))"
   ]
  },
  {
   "cell_type": "code",
   "execution_count": null,
   "metadata": {},
   "outputs": [],
   "source": []
  },
  {
   "cell_type": "code",
   "execution_count": 53,
   "metadata": {},
   "outputs": [
    {
     "data": {
      "text/plain": [
       "MultinomialNB()"
      ]
     },
     "execution_count": 53,
     "metadata": {},
     "output_type": "execute_result"
    }
   ],
   "source": [
    "#使用朴素贝叶斯进行训练\n",
    "mnb = MultinomialNB()   # 使用默认配置初始化朴素贝叶斯\n",
    "mnb.fit(train_data, train_label)    # 利用训练数据对模型参数进行估计"
   ]
  },
  {
   "cell_type": "code",
   "execution_count": 56,
   "metadata": {},
   "outputs": [
    {
     "name": "stdout",
     "output_type": "stream",
     "text": [
      "              precision    recall  f1-score   support\n",
      "\n",
      "        正常短信     0.8928    1.0000    0.9433       333\n",
      "        垃圾短信     0.0000    0.0000    0.0000        40\n",
      "\n",
      "    accuracy                         0.8928       373\n",
      "   macro avg     0.4464    0.5000    0.4717       373\n",
      "weighted avg     0.7970    0.8928    0.8422       373\n",
      "\n"
     ]
    },
    {
     "name": "stderr",
     "output_type": "stream",
     "text": [
      "d:\\ProgramData\\Anaconda3\\lib\\site-packages\\sklearn\\metrics\\_classification.py:1248: UndefinedMetricWarning: Precision and F-score are ill-defined and being set to 0.0 in labels with no predicted samples. Use `zero_division` parameter to control this behavior.\n",
      "  _warn_prf(average, modifier, msg_start, len(result))\n",
      "d:\\ProgramData\\Anaconda3\\lib\\site-packages\\sklearn\\metrics\\_classification.py:1248: UndefinedMetricWarning: Precision and F-score are ill-defined and being set to 0.0 in labels with no predicted samples. Use `zero_division` parameter to control this behavior.\n",
      "  _warn_prf(average, modifier, msg_start, len(result))\n",
      "d:\\ProgramData\\Anaconda3\\lib\\site-packages\\sklearn\\metrics\\_classification.py:1248: UndefinedMetricWarning: Precision and F-score are ill-defined and being set to 0.0 in labels with no predicted samples. Use `zero_division` parameter to control this behavior.\n",
      "  _warn_prf(average, modifier, msg_start, len(result))\n"
     ]
    }
   ],
   "source": [
    "#推断预测集的分类结果\n",
    "pre_label = mnb.predict(test_data)\n",
    "print(classification_report(test_label, pre_label, digits=4, target_names = ['正常短信', '垃圾短信']))"
   ]
  },
  {
   "cell_type": "code",
   "execution_count": null,
   "metadata": {},
   "outputs": [],
   "source": []
  },
  {
   "cell_type": "code",
   "execution_count": 67,
   "metadata": {},
   "outputs": [
    {
     "data": {
      "text/plain": [
       "RandomForestClassifier()"
      ]
     },
     "execution_count": 67,
     "metadata": {},
     "output_type": "execute_result"
    }
   ],
   "source": [
    "#使用随机森林进行训练\n",
    "rf_clf = RandomForestClassifier()\n",
    "rf_clf.fit(train_data, train_label) "
   ]
  },
  {
   "cell_type": "code",
   "execution_count": 68,
   "metadata": {},
   "outputs": [
    {
     "name": "stdout",
     "output_type": "stream",
     "text": [
      "              precision    recall  f1-score   support\n",
      "\n",
      "        正常短信     0.9199    1.0000    0.9583       333\n",
      "        垃圾短信     1.0000    0.2750    0.4314        40\n",
      "\n",
      "    accuracy                         0.9223       373\n",
      "   macro avg     0.9599    0.6375    0.6948       373\n",
      "weighted avg     0.9285    0.9223    0.9018       373\n",
      "\n"
     ]
    }
   ],
   "source": [
    "#推断预测集的分类结果\n",
    "pre_label = rf_clf.predict(test_data)\n",
    "print(classification_report(test_label, pre_label, digits=4, target_names = ['正常短信', '垃圾短信']))"
   ]
  },
  {
   "cell_type": "code",
   "execution_count": null,
   "metadata": {},
   "outputs": [],
   "source": []
  }
 ],
 "metadata": {
  "kernelspec": {
   "display_name": "Python 3 (ipykernel)",
   "language": "python",
   "name": "python3"
  },
  "language_info": {
   "codemirror_mode": {
    "name": "ipython",
    "version": 3
   },
   "file_extension": ".py",
   "mimetype": "text/x-python",
   "name": "python",
   "nbconvert_exporter": "python",
   "pygments_lexer": "ipython3",
   "version": "3.9.7"
  }
 },
 "nbformat": 4,
 "nbformat_minor": 2
}
