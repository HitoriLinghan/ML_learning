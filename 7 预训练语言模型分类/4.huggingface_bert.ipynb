{
 "cells": [
  {
   "cell_type": "markdown",
   "id": "370b8f62",
   "metadata": {},
   "source": [
    "## Hugging Face\n",
    "\n",
    "**Hugging Face** 是一个开源平台，提供了一系列工具和资源，用于处理自然语言处理（NLP）和计算机视觉项目。该平台提供模型托管、分词器、机器学习应用程序、数据集以及用于训练和实施AI模型的教育材料。\n",
    "\n",
    "使用 **Hugging Face** 进行文本分类编程的特点包括：\n",
    "\n",
    "1. **预训练模型**：Hugging Face 提供了大量预训练模型，如BERT、GPT-2等，这些模型已经在大规模数据集上进行了训练，可以直接用于文本分类任务。\n",
    "   \n",
    "2. **易于使用**：Hugging Face 提供了简单易用的API和工具，使得开发者可以轻松地加载模型、进行微调和部署。\n",
    "\n",
    "3. **多样性**：支持多种模型架构，适用于各种文本、图像和音频任务。\n",
    "\n",
    "4. **社区支持**：Hugging Face 拥有活跃的社区，用户可以共享模型、数据集和应用程序，促进协作和知识共享。\n",
    "\n",
    "5. **灵活性**：Hugging Face 的Transformers库与PyTorch、TensorFlow和JAX深度学习库兼容，为不同的深度学习需求提供支持。\n",
    "\n",
    "6. **高效性**：通过转移学习，用户可以利用预训练模型进行微调，而不必从头开始训练模型，这大大提高了开发效率和模型性能。\n",
    "\n",
    "总之，Hugging Face 是一个功能强大的平台，适用于从事NLP和计算机视觉项目的研究人员和开发者。它的易用性和强大的预训练模型库使得文本分类等任务变得更加高效和准确。"
   ]
  },
  {
   "cell_type": "code",
   "execution_count": 1,
   "id": "58472113",
   "metadata": {},
   "outputs": [],
   "source": [
    "from datasets import load_dataset\n",
    "from transformers import AutoTokenizer\n",
    "from transformers import DataCollatorWithPadding\n",
    "from transformers import AutoModelForSequenceClassification, TrainingArguments, Trainer\n",
    "import torch"
   ]
  },
  {
   "cell_type": "code",
   "execution_count": 2,
   "id": "2a9ae5a2",
   "metadata": {},
   "outputs": [
    {
     "data": {
      "application/vnd.jupyter.widget-view+json": {
       "model_id": "a4a0de3ee18544adac93ba4889dbc8a0",
       "version_major": 2,
       "version_minor": 0
      },
      "text/plain": [
       "Generating train split: 0 examples [00:00, ? examples/s]"
      ]
     },
     "metadata": {},
     "output_type": "display_data"
    },
    {
     "data": {
      "text/plain": [
       "DatasetDict({\n",
       "    train: Dataset({\n",
       "        features: ['label', 'review'],\n",
       "        num_rows: 1242\n",
       "    })\n",
       "})"
      ]
     },
     "execution_count": 2,
     "metadata": {},
     "output_type": "execute_result"
    }
   ],
   "source": [
    "dataset = load_dataset('csv', data_files='data.csv', delimiter=',')\n",
    "dataset"
   ]
  },
  {
   "cell_type": "code",
   "execution_count": 3,
   "id": "29235e9d",
   "metadata": {
    "scrolled": true
   },
   "outputs": [
    {
     "data": {
      "text/plain": [
       "DatasetDict({\n",
       "    train: Dataset({\n",
       "        features: ['label', 'review'],\n",
       "        num_rows: 869\n",
       "    })\n",
       "    test: Dataset({\n",
       "        features: ['label', 'review'],\n",
       "        num_rows: 373\n",
       "    })\n",
       "})"
      ]
     },
     "execution_count": 3,
     "metadata": {},
     "output_type": "execute_result"
    }
   ],
   "source": [
    "dataset = dataset['train'].train_test_split(test_size=0.3)\n",
    "dataset"
   ]
  },
  {
   "cell_type": "code",
   "execution_count": 4,
   "id": "d5b3d50c",
   "metadata": {},
   "outputs": [
    {
     "data": {
      "text/plain": [
       "{'label': 0, 'review': '再考虑加上刘青云和张家辉吧'}"
      ]
     },
     "execution_count": 4,
     "metadata": {},
     "output_type": "execute_result"
    }
   ],
   "source": [
    "dataset['train'][0]"
   ]
  },
  {
   "cell_type": "code",
   "execution_count": 5,
   "id": "68e6cc91",
   "metadata": {},
   "outputs": [],
   "source": [
    "tokenizer = AutoTokenizer.from_pretrained(r\"E:\\code\\distilbert-base-cased\")"
   ]
  },
  {
   "cell_type": "code",
   "execution_count": 6,
   "id": "ff55c2d9",
   "metadata": {},
   "outputs": [
    {
     "data": {
      "application/vnd.jupyter.widget-view+json": {
       "model_id": "93d6ae97e148423f9cdf37c5175ee7e0",
       "version_major": 2,
       "version_minor": 0
      },
      "text/plain": [
       "Map:   0%|          | 0/869 [00:00<?, ? examples/s]"
      ]
     },
     "metadata": {},
     "output_type": "display_data"
    },
    {
     "name": "stderr",
     "output_type": "stream",
     "text": [
      "Asking to truncate to max_length but no maximum length is provided and the model has no predefined maximum length. Default to no truncation.\n"
     ]
    },
    {
     "data": {
      "application/vnd.jupyter.widget-view+json": {
       "model_id": "20bb11e9c8104cc4a7dd4e88fb7a3c9e",
       "version_major": 2,
       "version_minor": 0
      },
      "text/plain": [
       "Map:   0%|          | 0/373 [00:00<?, ? examples/s]"
      ]
     },
     "metadata": {},
     "output_type": "display_data"
    }
   ],
   "source": [
    "def preprocess_function(examples):\n",
    "    return tokenizer(examples[\"review\"], truncation=True)\n",
    "tokenized_dataset = dataset.map(preprocess_function, batched=True)"
   ]
  },
  {
   "cell_type": "code",
   "execution_count": 7,
   "id": "55870ef4",
   "metadata": {},
   "outputs": [
    {
     "data": {
      "text/plain": [
       "{'label': 0,\n",
       " 'review': '再考虑加上刘青云和张家辉吧',\n",
       " 'input_ids': [101,\n",
       "  100,\n",
       "  100,\n",
       "  100,\n",
       "  1779,\n",
       "  1742,\n",
       "  100,\n",
       "  1975,\n",
       "  100,\n",
       "  1796,\n",
       "  100,\n",
       "  1825,\n",
       "  100,\n",
       "  100,\n",
       "  102],\n",
       " 'attention_mask': [1, 1, 1, 1, 1, 1, 1, 1, 1, 1, 1, 1, 1, 1, 1]}"
      ]
     },
     "execution_count": 7,
     "metadata": {},
     "output_type": "execute_result"
    }
   ],
   "source": [
    "tokenized_dataset['train'][0]"
   ]
  },
  {
   "cell_type": "code",
   "execution_count": 8,
   "id": "776c7020",
   "metadata": {},
   "outputs": [
    {
     "data": {
      "text/plain": [
       "DataCollatorWithPadding(tokenizer=DistilBertTokenizerFast(name_or_path='E:\\code\\distilbert-base-cased', vocab_size=30522, model_max_length=1000000000000000019884624838656, is_fast=True, padding_side='right', truncation_side='right', special_tokens={'unk_token': '[UNK]', 'sep_token': '[SEP]', 'pad_token': '[PAD]', 'cls_token': '[CLS]', 'mask_token': '[MASK]'}, clean_up_tokenization_spaces=True),  added_tokens_decoder={\n",
       "\t0: AddedToken(\"[PAD]\", rstrip=False, lstrip=False, single_word=False, normalized=False, special=True),\n",
       "\t100: AddedToken(\"[UNK]\", rstrip=False, lstrip=False, single_word=False, normalized=False, special=True),\n",
       "\t101: AddedToken(\"[CLS]\", rstrip=False, lstrip=False, single_word=False, normalized=False, special=True),\n",
       "\t102: AddedToken(\"[SEP]\", rstrip=False, lstrip=False, single_word=False, normalized=False, special=True),\n",
       "\t103: AddedToken(\"[MASK]\", rstrip=False, lstrip=False, single_word=False, normalized=False, special=True),\n",
       "}, padding=True, max_length=None, pad_to_multiple_of=None, return_tensors='pt')"
      ]
     },
     "execution_count": 8,
     "metadata": {},
     "output_type": "execute_result"
    }
   ],
   "source": [
    "data_collator = DataCollatorWithPadding(tokenizer=tokenizer)\n",
    "data_collator"
   ]
  },
  {
   "cell_type": "code",
   "execution_count": 9,
   "id": "55f1b342",
   "metadata": {},
   "outputs": [],
   "source": [
    "from sklearn.metrics import precision_recall_fscore_support, accuracy_score\n",
    "\n",
    "\n",
    "def compute_metrics(pred):\n",
    "    labels = pred.label_ids\n",
    "    preds = pred.predictions.argmax(-1)\n",
    "    precision, recall, f1, _ = precision_recall_fscore_support(labels, preds, average='weighted')\n",
    "    acc = accuracy_score(labels, preds)\n",
    "    return {\n",
    "        'accuracy': acc,\n",
    "        'f1': f1,\n",
    "        'precision': precision,\n",
    "        'recall': recall\n",
    "    }"
   ]
  },
  {
   "cell_type": "code",
   "execution_count": 10,
   "id": "7c83f876",
   "metadata": {},
   "outputs": [],
   "source": [
    "id2label = {0: \"正常短信\", 1: \"垃圾短信\"}\n",
    "label2id = {\"正常短信\": 0, \"垃圾短信\": 1}"
   ]
  },
  {
   "cell_type": "code",
   "execution_count": 11,
   "id": "0fb53927",
   "metadata": {},
   "outputs": [
    {
     "name": "stderr",
     "output_type": "stream",
     "text": [
      "Some weights of DistilBertForSequenceClassification were not initialized from the model checkpoint at E:\\code\\distilbert-base-cased and are newly initialized: ['classifier.bias', 'classifier.weight', 'pre_classifier.bias', 'pre_classifier.weight']\n",
      "You should probably TRAIN this model on a down-stream task to be able to use it for predictions and inference.\n"
     ]
    },
    {
     "name": "stdout",
     "output_type": "stream",
     "text": [
      "DistilBertForSequenceClassification(\n",
      "  (distilbert): DistilBertModel(\n",
      "    (embeddings): Embeddings(\n",
      "      (word_embeddings): Embedding(30522, 768, padding_idx=0)\n",
      "      (position_embeddings): Embedding(512, 768)\n",
      "      (LayerNorm): LayerNorm((768,), eps=1e-12, elementwise_affine=True)\n",
      "      (dropout): Dropout(p=0.1, inplace=False)\n",
      "    )\n",
      "    (transformer): Transformer(\n",
      "      (layer): ModuleList(\n",
      "        (0): TransformerBlock(\n",
      "          (attention): MultiHeadSelfAttention(\n",
      "            (dropout): Dropout(p=0.1, inplace=False)\n",
      "            (q_lin): Linear(in_features=768, out_features=768, bias=True)\n",
      "            (k_lin): Linear(in_features=768, out_features=768, bias=True)\n",
      "            (v_lin): Linear(in_features=768, out_features=768, bias=True)\n",
      "            (out_lin): Linear(in_features=768, out_features=768, bias=True)\n",
      "          )\n",
      "          (sa_layer_norm): LayerNorm((768,), eps=1e-12, elementwise_affine=True)\n",
      "          (ffn): FFN(\n",
      "            (dropout): Dropout(p=0.1, inplace=False)\n",
      "            (lin1): Linear(in_features=768, out_features=3072, bias=True)\n",
      "            (lin2): Linear(in_features=3072, out_features=768, bias=True)\n",
      "            (activation): GELUActivation()\n",
      "          )\n",
      "          (output_layer_norm): LayerNorm((768,), eps=1e-12, elementwise_affine=True)\n",
      "        )\n",
      "        (1): TransformerBlock(\n",
      "          (attention): MultiHeadSelfAttention(\n",
      "            (dropout): Dropout(p=0.1, inplace=False)\n",
      "            (q_lin): Linear(in_features=768, out_features=768, bias=True)\n",
      "            (k_lin): Linear(in_features=768, out_features=768, bias=True)\n",
      "            (v_lin): Linear(in_features=768, out_features=768, bias=True)\n",
      "            (out_lin): Linear(in_features=768, out_features=768, bias=True)\n",
      "          )\n",
      "          (sa_layer_norm): LayerNorm((768,), eps=1e-12, elementwise_affine=True)\n",
      "          (ffn): FFN(\n",
      "            (dropout): Dropout(p=0.1, inplace=False)\n",
      "            (lin1): Linear(in_features=768, out_features=3072, bias=True)\n",
      "            (lin2): Linear(in_features=3072, out_features=768, bias=True)\n",
      "            (activation): GELUActivation()\n",
      "          )\n",
      "          (output_layer_norm): LayerNorm((768,), eps=1e-12, elementwise_affine=True)\n",
      "        )\n",
      "        (2): TransformerBlock(\n",
      "          (attention): MultiHeadSelfAttention(\n",
      "            (dropout): Dropout(p=0.1, inplace=False)\n",
      "            (q_lin): Linear(in_features=768, out_features=768, bias=True)\n",
      "            (k_lin): Linear(in_features=768, out_features=768, bias=True)\n",
      "            (v_lin): Linear(in_features=768, out_features=768, bias=True)\n",
      "            (out_lin): Linear(in_features=768, out_features=768, bias=True)\n",
      "          )\n",
      "          (sa_layer_norm): LayerNorm((768,), eps=1e-12, elementwise_affine=True)\n",
      "          (ffn): FFN(\n",
      "            (dropout): Dropout(p=0.1, inplace=False)\n",
      "            (lin1): Linear(in_features=768, out_features=3072, bias=True)\n",
      "            (lin2): Linear(in_features=3072, out_features=768, bias=True)\n",
      "            (activation): GELUActivation()\n",
      "          )\n",
      "          (output_layer_norm): LayerNorm((768,), eps=1e-12, elementwise_affine=True)\n",
      "        )\n",
      "        (3): TransformerBlock(\n",
      "          (attention): MultiHeadSelfAttention(\n",
      "            (dropout): Dropout(p=0.1, inplace=False)\n",
      "            (q_lin): Linear(in_features=768, out_features=768, bias=True)\n",
      "            (k_lin): Linear(in_features=768, out_features=768, bias=True)\n",
      "            (v_lin): Linear(in_features=768, out_features=768, bias=True)\n",
      "            (out_lin): Linear(in_features=768, out_features=768, bias=True)\n",
      "          )\n",
      "          (sa_layer_norm): LayerNorm((768,), eps=1e-12, elementwise_affine=True)\n",
      "          (ffn): FFN(\n",
      "            (dropout): Dropout(p=0.1, inplace=False)\n",
      "            (lin1): Linear(in_features=768, out_features=3072, bias=True)\n",
      "            (lin2): Linear(in_features=3072, out_features=768, bias=True)\n",
      "            (activation): GELUActivation()\n",
      "          )\n",
      "          (output_layer_norm): LayerNorm((768,), eps=1e-12, elementwise_affine=True)\n",
      "        )\n",
      "        (4): TransformerBlock(\n",
      "          (attention): MultiHeadSelfAttention(\n",
      "            (dropout): Dropout(p=0.1, inplace=False)\n",
      "            (q_lin): Linear(in_features=768, out_features=768, bias=True)\n",
      "            (k_lin): Linear(in_features=768, out_features=768, bias=True)\n",
      "            (v_lin): Linear(in_features=768, out_features=768, bias=True)\n",
      "            (out_lin): Linear(in_features=768, out_features=768, bias=True)\n",
      "          )\n",
      "          (sa_layer_norm): LayerNorm((768,), eps=1e-12, elementwise_affine=True)\n",
      "          (ffn): FFN(\n",
      "            (dropout): Dropout(p=0.1, inplace=False)\n",
      "            (lin1): Linear(in_features=768, out_features=3072, bias=True)\n",
      "            (lin2): Linear(in_features=3072, out_features=768, bias=True)\n",
      "            (activation): GELUActivation()\n",
      "          )\n",
      "          (output_layer_norm): LayerNorm((768,), eps=1e-12, elementwise_affine=True)\n",
      "        )\n",
      "        (5): TransformerBlock(\n",
      "          (attention): MultiHeadSelfAttention(\n",
      "            (dropout): Dropout(p=0.1, inplace=False)\n",
      "            (q_lin): Linear(in_features=768, out_features=768, bias=True)\n",
      "            (k_lin): Linear(in_features=768, out_features=768, bias=True)\n",
      "            (v_lin): Linear(in_features=768, out_features=768, bias=True)\n",
      "            (out_lin): Linear(in_features=768, out_features=768, bias=True)\n",
      "          )\n",
      "          (sa_layer_norm): LayerNorm((768,), eps=1e-12, elementwise_affine=True)\n",
      "          (ffn): FFN(\n",
      "            (dropout): Dropout(p=0.1, inplace=False)\n",
      "            (lin1): Linear(in_features=768, out_features=3072, bias=True)\n",
      "            (lin2): Linear(in_features=3072, out_features=768, bias=True)\n",
      "            (activation): GELUActivation()\n",
      "          )\n",
      "          (output_layer_norm): LayerNorm((768,), eps=1e-12, elementwise_affine=True)\n",
      "        )\n",
      "      )\n",
      "    )\n",
      "  )\n",
      "  (pre_classifier): Linear(in_features=768, out_features=768, bias=True)\n",
      "  (classifier): Linear(in_features=768, out_features=2, bias=True)\n",
      "  (dropout): Dropout(p=0.2, inplace=False)\n",
      ")\n"
     ]
    }
   ],
   "source": [
    "model = AutoModelForSequenceClassification.from_pretrained(\n",
    "    r\"E:\\code\\distilbert-base-cased\", num_labels=2, id2label=id2label, label2id=label2id\n",
    ")\n",
    "print(model)"
   ]
  },
  {
   "cell_type": "code",
   "execution_count": 12,
   "id": "c933841d",
   "metadata": {},
   "outputs": [
    {
     "name": "stdout",
     "output_type": "stream",
     "text": [
      "distilbert.embeddings.word_embeddings.weight : torch.Size([30522, 768])\n",
      "distilbert.embeddings.position_embeddings.weight : torch.Size([512, 768])\n",
      "distilbert.embeddings.LayerNorm.weight : torch.Size([768])\n",
      "distilbert.embeddings.LayerNorm.bias : torch.Size([768])\n",
      "distilbert.transformer.layer.0.attention.q_lin.weight : torch.Size([768, 768])\n",
      "distilbert.transformer.layer.0.attention.q_lin.bias : torch.Size([768])\n",
      "distilbert.transformer.layer.0.attention.k_lin.weight : torch.Size([768, 768])\n",
      "distilbert.transformer.layer.0.attention.k_lin.bias : torch.Size([768])\n",
      "distilbert.transformer.layer.0.attention.v_lin.weight : torch.Size([768, 768])\n",
      "distilbert.transformer.layer.0.attention.v_lin.bias : torch.Size([768])\n",
      "distilbert.transformer.layer.0.attention.out_lin.weight : torch.Size([768, 768])\n",
      "distilbert.transformer.layer.0.attention.out_lin.bias : torch.Size([768])\n",
      "distilbert.transformer.layer.0.sa_layer_norm.weight : torch.Size([768])\n",
      "distilbert.transformer.layer.0.sa_layer_norm.bias : torch.Size([768])\n",
      "distilbert.transformer.layer.0.ffn.lin1.weight : torch.Size([3072, 768])\n",
      "distilbert.transformer.layer.0.ffn.lin1.bias : torch.Size([3072])\n",
      "distilbert.transformer.layer.0.ffn.lin2.weight : torch.Size([768, 3072])\n",
      "distilbert.transformer.layer.0.ffn.lin2.bias : torch.Size([768])\n",
      "distilbert.transformer.layer.0.output_layer_norm.weight : torch.Size([768])\n",
      "distilbert.transformer.layer.0.output_layer_norm.bias : torch.Size([768])\n",
      "distilbert.transformer.layer.1.attention.q_lin.weight : torch.Size([768, 768])\n",
      "distilbert.transformer.layer.1.attention.q_lin.bias : torch.Size([768])\n",
      "distilbert.transformer.layer.1.attention.k_lin.weight : torch.Size([768, 768])\n",
      "distilbert.transformer.layer.1.attention.k_lin.bias : torch.Size([768])\n",
      "distilbert.transformer.layer.1.attention.v_lin.weight : torch.Size([768, 768])\n",
      "distilbert.transformer.layer.1.attention.v_lin.bias : torch.Size([768])\n",
      "distilbert.transformer.layer.1.attention.out_lin.weight : torch.Size([768, 768])\n",
      "distilbert.transformer.layer.1.attention.out_lin.bias : torch.Size([768])\n",
      "distilbert.transformer.layer.1.sa_layer_norm.weight : torch.Size([768])\n",
      "distilbert.transformer.layer.1.sa_layer_norm.bias : torch.Size([768])\n",
      "distilbert.transformer.layer.1.ffn.lin1.weight : torch.Size([3072, 768])\n",
      "distilbert.transformer.layer.1.ffn.lin1.bias : torch.Size([3072])\n",
      "distilbert.transformer.layer.1.ffn.lin2.weight : torch.Size([768, 3072])\n",
      "distilbert.transformer.layer.1.ffn.lin2.bias : torch.Size([768])\n",
      "distilbert.transformer.layer.1.output_layer_norm.weight : torch.Size([768])\n",
      "distilbert.transformer.layer.1.output_layer_norm.bias : torch.Size([768])\n",
      "distilbert.transformer.layer.2.attention.q_lin.weight : torch.Size([768, 768])\n",
      "distilbert.transformer.layer.2.attention.q_lin.bias : torch.Size([768])\n",
      "distilbert.transformer.layer.2.attention.k_lin.weight : torch.Size([768, 768])\n",
      "distilbert.transformer.layer.2.attention.k_lin.bias : torch.Size([768])\n",
      "distilbert.transformer.layer.2.attention.v_lin.weight : torch.Size([768, 768])\n",
      "distilbert.transformer.layer.2.attention.v_lin.bias : torch.Size([768])\n",
      "distilbert.transformer.layer.2.attention.out_lin.weight : torch.Size([768, 768])\n",
      "distilbert.transformer.layer.2.attention.out_lin.bias : torch.Size([768])\n",
      "distilbert.transformer.layer.2.sa_layer_norm.weight : torch.Size([768])\n",
      "distilbert.transformer.layer.2.sa_layer_norm.bias : torch.Size([768])\n",
      "distilbert.transformer.layer.2.ffn.lin1.weight : torch.Size([3072, 768])\n",
      "distilbert.transformer.layer.2.ffn.lin1.bias : torch.Size([3072])\n",
      "distilbert.transformer.layer.2.ffn.lin2.weight : torch.Size([768, 3072])\n",
      "distilbert.transformer.layer.2.ffn.lin2.bias : torch.Size([768])\n",
      "distilbert.transformer.layer.2.output_layer_norm.weight : torch.Size([768])\n",
      "distilbert.transformer.layer.2.output_layer_norm.bias : torch.Size([768])\n",
      "distilbert.transformer.layer.3.attention.q_lin.weight : torch.Size([768, 768])\n",
      "distilbert.transformer.layer.3.attention.q_lin.bias : torch.Size([768])\n",
      "distilbert.transformer.layer.3.attention.k_lin.weight : torch.Size([768, 768])\n",
      "distilbert.transformer.layer.3.attention.k_lin.bias : torch.Size([768])\n",
      "distilbert.transformer.layer.3.attention.v_lin.weight : torch.Size([768, 768])\n",
      "distilbert.transformer.layer.3.attention.v_lin.bias : torch.Size([768])\n",
      "distilbert.transformer.layer.3.attention.out_lin.weight : torch.Size([768, 768])\n",
      "distilbert.transformer.layer.3.attention.out_lin.bias : torch.Size([768])\n",
      "distilbert.transformer.layer.3.sa_layer_norm.weight : torch.Size([768])\n",
      "distilbert.transformer.layer.3.sa_layer_norm.bias : torch.Size([768])\n",
      "distilbert.transformer.layer.3.ffn.lin1.weight : torch.Size([3072, 768])\n",
      "distilbert.transformer.layer.3.ffn.lin1.bias : torch.Size([3072])\n",
      "distilbert.transformer.layer.3.ffn.lin2.weight : torch.Size([768, 3072])\n",
      "distilbert.transformer.layer.3.ffn.lin2.bias : torch.Size([768])\n",
      "distilbert.transformer.layer.3.output_layer_norm.weight : torch.Size([768])\n",
      "distilbert.transformer.layer.3.output_layer_norm.bias : torch.Size([768])\n",
      "distilbert.transformer.layer.4.attention.q_lin.weight : torch.Size([768, 768])\n",
      "distilbert.transformer.layer.4.attention.q_lin.bias : torch.Size([768])\n",
      "distilbert.transformer.layer.4.attention.k_lin.weight : torch.Size([768, 768])\n",
      "distilbert.transformer.layer.4.attention.k_lin.bias : torch.Size([768])\n",
      "distilbert.transformer.layer.4.attention.v_lin.weight : torch.Size([768, 768])\n",
      "distilbert.transformer.layer.4.attention.v_lin.bias : torch.Size([768])\n",
      "distilbert.transformer.layer.4.attention.out_lin.weight : torch.Size([768, 768])\n",
      "distilbert.transformer.layer.4.attention.out_lin.bias : torch.Size([768])\n",
      "distilbert.transformer.layer.4.sa_layer_norm.weight : torch.Size([768])\n",
      "distilbert.transformer.layer.4.sa_layer_norm.bias : torch.Size([768])\n",
      "distilbert.transformer.layer.4.ffn.lin1.weight : torch.Size([3072, 768])\n",
      "distilbert.transformer.layer.4.ffn.lin1.bias : torch.Size([3072])\n",
      "distilbert.transformer.layer.4.ffn.lin2.weight : torch.Size([768, 3072])\n",
      "distilbert.transformer.layer.4.ffn.lin2.bias : torch.Size([768])\n",
      "distilbert.transformer.layer.4.output_layer_norm.weight : torch.Size([768])\n",
      "distilbert.transformer.layer.4.output_layer_norm.bias : torch.Size([768])\n",
      "distilbert.transformer.layer.5.attention.q_lin.weight : torch.Size([768, 768])\n",
      "distilbert.transformer.layer.5.attention.q_lin.bias : torch.Size([768])\n",
      "distilbert.transformer.layer.5.attention.k_lin.weight : torch.Size([768, 768])\n",
      "distilbert.transformer.layer.5.attention.k_lin.bias : torch.Size([768])\n",
      "distilbert.transformer.layer.5.attention.v_lin.weight : torch.Size([768, 768])\n",
      "distilbert.transformer.layer.5.attention.v_lin.bias : torch.Size([768])\n",
      "distilbert.transformer.layer.5.attention.out_lin.weight : torch.Size([768, 768])\n",
      "distilbert.transformer.layer.5.attention.out_lin.bias : torch.Size([768])\n",
      "distilbert.transformer.layer.5.sa_layer_norm.weight : torch.Size([768])\n",
      "distilbert.transformer.layer.5.sa_layer_norm.bias : torch.Size([768])\n",
      "distilbert.transformer.layer.5.ffn.lin1.weight : torch.Size([3072, 768])\n",
      "distilbert.transformer.layer.5.ffn.lin1.bias : torch.Size([3072])\n",
      "distilbert.transformer.layer.5.ffn.lin2.weight : torch.Size([768, 3072])\n",
      "distilbert.transformer.layer.5.ffn.lin2.bias : torch.Size([768])\n",
      "distilbert.transformer.layer.5.output_layer_norm.weight : torch.Size([768])\n",
      "distilbert.transformer.layer.5.output_layer_norm.bias : torch.Size([768])\n",
      "pre_classifier.weight : torch.Size([768, 768])\n",
      "pre_classifier.bias : torch.Size([768])\n",
      "classifier.weight : torch.Size([2, 768])\n",
      "classifier.bias : torch.Size([2])\n",
      "模型需要训练参数为： 66955010\n"
     ]
    }
   ],
   "source": [
    "total_params = 0\n",
    "for name, parameters in model.named_parameters():\n",
    "    if not parameters.requires_grad: continue\n",
    "    print(name, ':', parameters.size())\n",
    "    total_params += parameters.numel()\n",
    "print(\"模型需要训练参数为：\", total_params)"
   ]
  },
  {
   "cell_type": "code",
   "execution_count": 13,
   "id": "7e9e15c4",
   "metadata": {},
   "outputs": [],
   "source": [
    "training_args = TrainingArguments(\n",
    "    output_dir=\"my_awesome_model\",\n",
    "    learning_rate=2e-5,\n",
    "    per_device_train_batch_size=16,\n",
    "    per_device_eval_batch_size=16,\n",
    "    num_train_epochs=3,\n",
    "    weight_decay=0.01,\n",
    "    evaluation_strategy=\"epoch\",\n",
    "    save_strategy=\"epoch\",\n",
    "    load_best_model_at_end=True,\n",
    ")\n",
    "\n",
    "trainer = Trainer(\n",
    "    model=model,\n",
    "    args=training_args,\n",
    "    train_dataset=tokenized_dataset[\"train\"],\n",
    "    eval_dataset=tokenized_dataset[\"test\"],\n",
    "    tokenizer=tokenizer,\n",
    "    data_collator=data_collator,\n",
    "    compute_metrics=compute_metrics,\n",
    ")"
   ]
  },
  {
   "cell_type": "code",
   "execution_count": 14,
   "id": "782e8c06",
   "metadata": {},
   "outputs": [
    {
     "data": {
      "text/html": [
       "\n",
       "    <div>\n",
       "      \n",
       "      <progress value='165' max='165' style='width:300px; height:20px; vertical-align: middle;'></progress>\n",
       "      [165/165 01:50, Epoch 3/3]\n",
       "    </div>\n",
       "    <table border=\"1\" class=\"dataframe\">\n",
       "  <thead>\n",
       " <tr style=\"text-align: left;\">\n",
       "      <th>Epoch</th>\n",
       "      <th>Training Loss</th>\n",
       "      <th>Validation Loss</th>\n",
       "      <th>Accuracy</th>\n",
       "      <th>F1</th>\n",
       "      <th>Precision</th>\n",
       "      <th>Recall</th>\n",
       "    </tr>\n",
       "  </thead>\n",
       "  <tbody>\n",
       "    <tr>\n",
       "      <td>1</td>\n",
       "      <td>No log</td>\n",
       "      <td>0.078533</td>\n",
       "      <td>0.983914</td>\n",
       "      <td>0.983276</td>\n",
       "      <td>0.984196</td>\n",
       "      <td>0.983914</td>\n",
       "    </tr>\n",
       "    <tr>\n",
       "      <td>2</td>\n",
       "      <td>No log</td>\n",
       "      <td>0.071156</td>\n",
       "      <td>0.986595</td>\n",
       "      <td>0.986342</td>\n",
       "      <td>0.986454</td>\n",
       "      <td>0.986595</td>\n",
       "    </tr>\n",
       "    <tr>\n",
       "      <td>3</td>\n",
       "      <td>No log</td>\n",
       "      <td>0.071561</td>\n",
       "      <td>0.986595</td>\n",
       "      <td>0.986342</td>\n",
       "      <td>0.986454</td>\n",
       "      <td>0.986595</td>\n",
       "    </tr>\n",
       "  </tbody>\n",
       "</table><p>"
      ],
      "text/plain": [
       "<IPython.core.display.HTML object>"
      ]
     },
     "metadata": {},
     "output_type": "display_data"
    },
    {
     "data": {
      "text/plain": [
       "TrainOutput(global_step=165, training_loss=0.0928023251620206, metrics={'train_runtime': 112.6063, 'train_samples_per_second': 23.151, 'train_steps_per_second': 1.465, 'total_flos': 44419009513392.0, 'train_loss': 0.0928023251620206, 'epoch': 3.0})"
      ]
     },
     "execution_count": 14,
     "metadata": {},
     "output_type": "execute_result"
    }
   ],
   "source": [
    "trainer.train()"
   ]
  },
  {
   "cell_type": "code",
   "execution_count": 17,
   "id": "e77cf1a2",
   "metadata": {},
   "outputs": [
    {
     "data": {
      "text/html": [],
      "text/plain": [
       "<IPython.core.display.HTML object>"
      ]
     },
     "metadata": {},
     "output_type": "display_data"
    }
   ],
   "source": [
    "predictions = trainer.predict(tokenized_dataset[\"test\"])\n",
    "#pred_labels = [id2label[prediction] for prediction in predictions.predictions.argmax(-1)]\n",
    "pred_labels = [prediction for prediction in predictions.predictions.argmax(-1)]"
   ]
  },
  {
   "cell_type": "code",
   "execution_count": 16,
   "id": "179fb487",
   "metadata": {},
   "outputs": [
    {
     "name": "stdout",
     "output_type": "stream",
     "text": [
      "              precision    recall  f1-score   support\n",
      "\n",
      "           0     0.9882    0.9970    0.9926       336\n",
      "           1     0.9706    0.8919    0.9296        37\n",
      "\n",
      "    accuracy                         0.9866       373\n",
      "   macro avg     0.9794    0.9445    0.9611       373\n",
      "weighted avg     0.9865    0.9866    0.9863       373\n",
      "\n",
      "[[335   1]\n",
      " [  4  33]]\n"
     ]
    }
   ],
   "source": [
    "from sklearn import metrics\n",
    "classify_report = metrics.classification_report(tokenized_dataset['test']['label'], pred_labels, digits = 4) #分类报告 support测试集样本数\n",
    "print(classify_report) \n",
    "confusion_matrix = metrics.confusion_matrix(tokenized_dataset['test']['label'], pred_labels) #混淆矩阵\n",
    "print(confusion_matrix) "
   ]
  },
  {
   "cell_type": "code",
   "execution_count": null,
   "id": "304926ef",
   "metadata": {},
   "outputs": [],
   "source": []
  }
 ],
 "metadata": {
  "kernelspec": {
   "display_name": "torchgpu",
   "language": "python",
   "name": "torchgpu"
  },
  "language_info": {
   "codemirror_mode": {
    "name": "ipython",
    "version": 3
   },
   "file_extension": ".py",
   "mimetype": "text/x-python",
   "name": "python",
   "nbconvert_exporter": "python",
   "pygments_lexer": "ipython3",
   "version": "3.8.18"
  }
 },
 "nbformat": 4,
 "nbformat_minor": 5
}
