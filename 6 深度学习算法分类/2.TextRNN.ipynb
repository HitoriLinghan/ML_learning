{
 "cells": [
  {
   "attachments": {
    "13407176-bff8fda150726959.PNG": {
     "image/png": "[encoded data removed]"
    }
   },
   "cell_type": "markdown",
   "metadata": {},
   "source": [
    "## TextRNN\n",
    "\n",
    "TextRNN是一种基于递归神经网络（RNN）结构的文本分类模型，用于处理自然语言处理（NLP）任务。它可以接收变长的文本序列作为输入，并输出对文本的分类结果。\n",
    "\n",
    "TextRNN的原理是利用RNN的循环结构来建模文本序列中的上下文信息。具体来说，TextRNN将文本序列中的每个词或字符依次输入RNN中，RNN会根据当前输入的词或字符以及前一个词或字符的隐状态来更新当前的隐状态，并输出一个隐藏状态表示当前位置的文本信息。通过将整个文本序列依次输入RNN，并将最终的隐藏状态输入一个全连接层进行分类，可以得到文本的分类结果。\n",
    "\n",
    "TextRNN解决了传统的词袋模型（Bag of Words）和N-gram模型在处理文本时无法捕捉文本序列信息的问题。它可以更好地捕捉文本序列中的长期依赖关系，从而提高了文本分类的性能。\n",
    "\n",
    "TextRNN最早由Lei, Z., Zhang, Y., & Lei, T.于2015年提出。与传统的RNN相比，TextRNN可以更好地捕捉文本序列中的长期依赖关系，从而提高了文本分类的性能。\n",
    "\n",
    "LSTM（长短期记忆网络）和GRU（门控循环单元）是RNN的变种，它们可以用来替代传统的RNN单元。与传统的RNN相比，LSTM和GRU引入了门控机制，可以更有效地处理长序列，并且在一定程度上缓解了梯度消失和梯度爆炸问题。因此，TextRNN中的RNN单元可以选择使用LSTM或GRU来提高模型的性能和效率。\n",
    "\n",
    "![13407176-bff8fda150726959.PNG](attachment:13407176-bff8fda150726959.PNG)"
   ]
  },
  {
   "cell_type": "code",
   "execution_count": 1,
   "metadata": {},
   "outputs": [
    {
     "name": "stderr",
     "output_type": "stream",
     "text": [
      "f:\\download\\sd\\sd-webui-aki-v4.5\\python\\lib\\site-packages\\tqdm\\auto.py:21: TqdmWarning: IProgress not found. Please update jupyter and ipywidgets. See https://ipywidgets.readthedocs.io/en/stable/user_install.html\n",
      "  from .autonotebook import tqdm as notebook_tqdm\n"
     ]
    }
   ],
   "source": [
    "import torch\n",
    "import torch.nn as nn\n",
    "from torch.autograd import Variable\n",
    "import torch.utils.data as Data\n",
    "import torchvision\n",
    "import numpy as np\n",
    "from gensim.models import KeyedVectors\n",
    "from sklearn.model_selection import train_test_split\n",
    "import pandas as pd\n",
    "from collections import Counter\n",
    "from sklearn.metrics import classification_report\n",
    "import math"
   ]
  },
  {
   "cell_type": "code",
   "execution_count": 2,
   "metadata": {},
   "outputs": [
    {
     "name": "stdout",
     "output_type": "stream",
     "text": [
      "                                                  文本  标签\n",
      "0                       商业秘密 秘密性 维系 商业价值 垄断 地位 前提条件    0\n",
      "1  南口 阿玛施 新春 第一批 限量 春装 店 春暖花开 淑女 裙冰 蓝色 公主 衫 气质 粉小...   1\n",
      "2                                 带给 常州 一场 壮观 视觉 盛宴    0\n",
      "3                                     原因 不明 泌尿系统 结石    0\n",
      "4                                    年 盐城 拉回来 麻麻 嫁妆    0\n"
     ]
    }
   ],
   "source": [
    "#读取数据\n",
    "df = pd.read_csv('分词后data.csv')\n",
    "df = df.dropna()\n",
    "print(df.head())"
   ]
  },
  {
   "cell_type": "code",
   "execution_count": 3,
   "metadata": {},
   "outputs": [
    {
     "name": "stdout",
     "output_type": "stream",
     "text": [
      "1241 1241\n",
      "Counter({0: 1119, 1: 122})\n"
     ]
    }
   ],
   "source": [
    "data = df['文本'].tolist()\n",
    "label = df['标签'].tolist()\n",
    "print(len(data), len(label)) #查看语料信息\n",
    "print(Counter(label)) #查看不同标签文本数量"
   ]
  },
  {
   "cell_type": "code",
   "execution_count": 4,
   "metadata": {},
   "outputs": [
    {
     "name": "stdout",
     "output_type": "stream",
     "text": [
      "['商业秘密 秘密性 维系 商业价值 垄断 地位 前提条件 ', '南口 阿玛施 新春 第一批 限量 春装 店 春暖花开 淑女 裙冰 蓝色 公主 衫 气质 粉小 西装 冰丝 女王 长半裙 皇 ', '带给 常州 一场 壮观 视觉 盛宴 ', '原因 不明 泌尿系统 结石 ', '年 盐城 拉回来 麻麻 嫁妆 ']\n"
     ]
    }
   ],
   "source": [
    "texts = [each.split() for each in data]\n",
    "print(data[0:5])"
   ]
  },
  {
   "cell_type": "code",
   "execution_count": 5,
   "metadata": {},
   "outputs": [],
   "source": [
    "#构建词表，将文本中的字符单词替换为数字索引\n",
    "word_vocb=[]\n",
    "word_vocb.append('')\n",
    "for text in texts:\n",
    "    for word in text:\n",
    "        word_vocb.append(word)\n",
    "word_vocb=set(word_vocb)\n",
    "vocb_size=len(word_vocb)"
   ]
  },
  {
   "cell_type": "code",
   "execution_count": 6,
   "metadata": {},
   "outputs": [
    {
     "name": "stdout",
     "output_type": "stream",
     "text": [
      "5919\n"
     ]
    }
   ],
   "source": [
    "print(vocb_size)"
   ]
  },
  {
   "cell_type": "code",
   "execution_count": 7,
   "metadata": {},
   "outputs": [],
   "source": [
    "#词表与索引的映射\n",
    "word_to_idx={word:i for i,word in enumerate(word_vocb)}\n",
    "idx_to_word={word_to_idx[word]:word for word in word_to_idx}"
   ]
  },
  {
   "cell_type": "code",
   "execution_count": null,
   "metadata": {},
   "outputs": [],
   "source": []
  },
  {
   "cell_type": "code",
   "execution_count": 8,
   "metadata": {},
   "outputs": [],
   "source": [
    "import pickle"
   ]
  },
  {
   "cell_type": "code",
   "execution_count": 9,
   "metadata": {},
   "outputs": [],
   "source": [
    "#保存词表与索引，每次生成不同，为读取以保存CNN模型使用\n",
    "with open('word_to_idx.pkl',mode='wb') as f3:\n",
    "    pickle.dump(word_to_idx,f3)\n",
    "    pickle.dump(idx_to_word,f3)"
   ]
  },
  {
   "cell_type": "code",
   "execution_count": 10,
   "metadata": {},
   "outputs": [],
   "source": [
    "#读取词表与索引\n",
    "with open('word_to_idx.pkl',mode='rb') as f4:\n",
    "    word_to_idx=pickle.load(f4)\n",
    "    idx_to_word=pickle.load(f4)"
   ]
  },
  {
   "cell_type": "code",
   "execution_count": null,
   "metadata": {},
   "outputs": [],
   "source": []
  },
  {
   "cell_type": "code",
   "execution_count": 11,
   "metadata": {},
   "outputs": [
    {
     "name": "stdout",
     "output_type": "stream",
     "text": [
      "1306\n",
      "属\n"
     ]
    }
   ],
   "source": [
    "print(word_to_idx['商业价值'])\n",
    "print(idx_to_word[222])"
   ]
  },
  {
   "cell_type": "code",
   "execution_count": null,
   "metadata": {
    "collapsed": true
   },
   "outputs": [],
   "source": []
  },
  {
   "cell_type": "code",
   "execution_count": 12,
   "metadata": {},
   "outputs": [],
   "source": [
    "#演示文本最大长度设置为30\n",
    "max_len = 30\n",
    "#生成训练数据，删除超过max_len的部分，不够的补0\n",
    "texts_with_id=np.zeros([len(texts),max_len])\n",
    "for i in range(0,len(texts)):\n",
    "    if len(texts[i])<max_len:\n",
    "        for j in range(0,len(texts[i])):\n",
    "            texts_with_id[i][j]=word_to_idx[texts[i][j]]\n",
    "        for j in range(len(texts[i]),max_len):\n",
    "            texts_with_id[i][j] = word_to_idx['']\n",
    "    else:\n",
    "        for j in range(0,max_len):\n",
    "            texts_with_id[i][j]=word_to_idx[texts[i][j]]"
   ]
  },
  {
   "cell_type": "code",
   "execution_count": 13,
   "metadata": {},
   "outputs": [
    {
     "name": "stdout",
     "output_type": "stream",
     "text": [
      "(1241, 30)\n",
      "[  63. 3329. 1275. 1306.  582. 3491. 5627.    0.    0.    0.    0.    0.\n",
      "    0.    0.    0.    0.    0.    0.    0.    0.    0.    0.    0.    0.\n",
      "    0.    0.    0.    0.    0.    0.]\n"
     ]
    }
   ],
   "source": [
    "print(texts_with_id.shape)\n",
    "print(texts_with_id[0])"
   ]
  },
  {
   "cell_type": "code",
   "execution_count": 14,
   "metadata": {},
   "outputs": [],
   "source": [
    "#TextRNN模型\n",
    "class TextRNN(nn.Module):\n",
    "    def __init__(self,args):\n",
    "        super(TextRNN, self).__init__()\n",
    "        vocb_size = args['vocb_size']\n",
    "        dim = args['dim'] #词向量维度\n",
    "        n_class = args['n_class']\n",
    "        max_len = args['max_len']\n",
    "        embedding_matrix=args['embedding_matrix']\n",
    "        hidden_size = 128 #隐藏层单元\n",
    "        num_layers = 2 #RNN层数\n",
    "        dropout = 0.5 #防过拟合随机丢失\n",
    "        \n",
    "        #需要将事先训练好的词向量载入\n",
    "        self.embedding = nn.Embedding(vocb_size, dim,_weight=embedding_matrix)\n",
    "        \n",
    "        self.lstm = nn.LSTM(dim, hidden_size, num_layers,\n",
    "                            bidirectional=True, batch_first=True, dropout=dropout)\n",
    "        \n",
    "        self.fc = nn.Linear(hidden_size * 2, n_class)\n",
    "        \n",
    "    def forward(self, x):\n",
    "        out = self.embedding(x)  # [batch_size, seq_len, embeding]=[128, 32, 300]\n",
    "        #print(out.size())\n",
    "        out, _ = self.lstm(out)\n",
    "        #print(out.size())\n",
    "        out = self.fc(out[:, -1, :])  # 句子最后时刻的 hidden state\n",
    "        return out"
   ]
  },
  {
   "cell_type": "markdown",
   "metadata": {},
   "source": [
    "## ChatGPT 生成的代码解释\n",
    "\n",
    "这段代码定义了一个**TextRNN模型**，用于处理文本分类任务。让我逐步解释一下：\n",
    "\n",
    "1. **模型结构**：\n",
    "    - 这是一个继承自`nn.Module`的PyTorch模型类，名为`TextRNN`。\n",
    "    - 模型包含以下几个主要组件：\n",
    "        - 词嵌入层（`self.embedding`）：用于将输入的词索引转换为词向量。\n",
    "        - 双向LSTM层（`self.lstm`）：用于处理序列数据，捕捉上下文信息。\n",
    "        - 全连接层（`self.fc`）：用于将LSTM输出映射到分类标签。\n",
    "\n",
    "2. **初始化方法**（`__init__`）：\n",
    "    - 接收一个参数`args`，其中包含以下信息：\n",
    "        - `vocb_size`：词汇表大小。\n",
    "        - `dim`：词向量维度。\n",
    "        - `n_class`：分类类别数。\n",
    "        - `max_len`：最大序列长度。\n",
    "        - `embedding_matrix`：预训练的词向量矩阵。\n",
    "    - 初始化模型的各个组件：\n",
    "        - `self.embedding`：使用预训练的词向量矩阵作为权重。\n",
    "        - `self.lstm`：双向LSTM，包含指定数量的隐藏层单元和层数。\n",
    "        - `self.fc`：全连接层，将LSTM输出映射到分类标签。\n",
    "\n",
    "3. **前向传播方法**（`forward`）：\n",
    "    - 输入`x`是一个表示文本序列的张量，其形状为`[batch_size, seq_len]`。\n",
    "    - 首先，通过词嵌入层将词索引转换为词向量。\n",
    "    - 然后，将词向量输入到双向LSTM中，获取LSTM的输出。\n",
    "    - 最后，将LSTM输出的最后一个时间步的隐藏状态（双向拼接）传递给全连接层，得到分类结果。\n",
    "\n",
    "总之，这段代码定义了一个TextRNN模型，用于文本分类任务，其中包含词嵌入层、双向LSTM和全连接层。"
   ]
  },
  {
   "cell_type": "code",
   "execution_count": null,
   "metadata": {
    "collapsed": true
   },
   "outputs": [],
   "source": []
  },
  {
   "cell_type": "code",
   "execution_count": 15,
   "metadata": {},
   "outputs": [],
   "source": [
    "args = {}\n",
    "\n",
    "word_dim = 300 #词向量的维度\n",
    "n_class = 2 #类别\n",
    "\n",
    "#textCNN调用的参数\n",
    "args['vocb_size']=vocb_size\n",
    "args['max_len']=max_len\n",
    "args['n_class']=n_class\n",
    "args['dim']=word_dim"
   ]
  },
  {
   "cell_type": "code",
   "execution_count": 17,
   "metadata": {},
   "outputs": [],
   "source": [
    "#word2vec词向量\n",
    "cn_model = KeyedVectors.load_word2vec_format('..\\\\4 词向量文档表示模型\\\\sgns.weibo.word.bz2', binary=False)"
   ]
  },
  {
   "cell_type": "code",
   "execution_count": 18,
   "metadata": {},
   "outputs": [],
   "source": [
    "#embedding层的参数大小为vocb_size*dim，即词汇表大小乘词向量的维度 又称为lookup表\n",
    "embedding_matrix = np.zeros((vocb_size, word_dim))\n",
    "\n",
    "for word, i in word_to_idx.items():\n",
    "    if word in cn_model:\n",
    "        embedding_vector = cn_model[word]\n",
    "        if embedding_vector is not None:\n",
    "            # words not found in embedding index will be all-zeros.\n",
    "            embedding_matrix[i] = embedding_vector\n",
    "args['embedding_matrix']=torch.Tensor(embedding_matrix)"
   ]
  },
  {
   "cell_type": "code",
   "execution_count": null,
   "metadata": {
    "collapsed": true
   },
   "outputs": [],
   "source": []
  },
  {
   "cell_type": "code",
   "execution_count": 19,
   "metadata": {
    "collapsed": true
   },
   "outputs": [],
   "source": [
    "import pickle"
   ]
  },
  {
   "cell_type": "code",
   "execution_count": 20,
   "metadata": {
    "collapsed": true
   },
   "outputs": [],
   "source": [
    "#保存所用到的词向量矩阵\n",
    "with open('embedding_matrix.pickle', mode='wb') as f1:\n",
    "    pickle.dump(embedding_matrix, f1)"
   ]
  },
  {
   "cell_type": "code",
   "execution_count": 21,
   "metadata": {
    "collapsed": true
   },
   "outputs": [],
   "source": [
    "#读取所用到的词向量矩阵\n",
    "with open('embedding_matrix.pickle', mode='rb') as f1:\n",
    "    embedding_matrix = pickle.load(f1)\n",
    "args['embedding_matrix']=torch.Tensor(embedding_matrix)"
   ]
  },
  {
   "cell_type": "code",
   "execution_count": 22,
   "metadata": {},
   "outputs": [
    {
     "name": "stdout",
     "output_type": "stream",
     "text": [
      "(5919, 300)\n",
      "[ 2.66777009e-01 -3.21888000e-01  1.06982999e-01  4.06881988e-01\n",
      " -2.35284001e-01  2.07417995e-01 -7.13749975e-02  9.79600009e-03\n",
      " -1.02040004e-02  3.87019999e-02  4.89437014e-01 -4.52923000e-01\n",
      "  1.77261993e-01 -1.68048993e-01 -1.98004007e-01 -1.23511001e-01\n",
      "  8.94000009e-03 -7.98579976e-02  1.91118002e-01 -3.07499990e-03\n",
      " -2.65389998e-02  8.91100019e-02 -8.55510011e-02 -1.76001996e-01\n",
      "  2.71526009e-01  4.52105999e-01 -3.73569012e-01 -3.21689010e-01\n",
      "  1.10633001e-01 -9.94110033e-02 -4.64556009e-01 -3.64602000e-01\n",
      "  3.66749987e-02 -1.85245007e-01  3.16985011e-01  1.97410002e-01\n",
      " -1.18947998e-01 -2.59909987e-01 -2.11236000e-01 -2.34621003e-01\n",
      "  1.71119999e-02 -1.52693003e-01  1.91820003e-02 -4.57255006e-01\n",
      " -1.61532998e-01  3.99289988e-02  1.89420003e-02  1.80934995e-01\n",
      "  1.45190001e-01 -8.16679969e-02 -5.86280003e-02 -2.52126008e-01\n",
      "  2.56309986e-01  2.21190006e-02  3.26329991e-02  2.46580005e-01\n",
      "  4.58799988e-01  1.10041000e-01 -3.09166014e-01 -1.75816000e-01\n",
      "  1.05021000e-01 -1.39431000e-01  3.12137008e-01  9.85869989e-02\n",
      " -2.99510006e-02 -1.33983999e-01  1.17587999e-01 -4.06359993e-02\n",
      "  3.24510008e-01  2.11939007e-01 -2.87810005e-02 -1.28960004e-02\n",
      " -4.38450016e-02 -1.65856004e-01  2.75691003e-01  4.17900011e-02\n",
      "  8.90759975e-02  1.42820001e-01 -1.95959993e-02 -2.40862995e-01\n",
      "  3.12339999e-02  5.51999994e-02  2.85771996e-01 -1.51540995e-01\n",
      "  1.23773001e-01  3.59580010e-01  2.21255004e-01  9.29009989e-02\n",
      " -2.11999997e-01 -4.69664007e-01 -2.15461001e-01  4.33809996e-01\n",
      " -3.19543988e-01  1.12108998e-01 -9.76980031e-02  9.89750028e-02\n",
      "  3.17449987e-01  1.65216997e-01  1.31090000e-01 -5.59570007e-02\n",
      " -8.80950019e-02  1.66752994e-01  7.76100019e-03  1.99151993e-01\n",
      " -9.35699977e-03  1.99906006e-01  1.01403996e-01  1.64857998e-01\n",
      "  6.50639981e-02 -1.82760999e-01  1.98445007e-01 -8.89850035e-02\n",
      "  9.72000044e-03 -4.16529000e-01 -1.83875993e-01 -2.64676988e-01\n",
      " -4.02090013e-01 -1.45908996e-01 -1.72931001e-01 -2.94241995e-01\n",
      " -1.24155000e-01  1.31310999e-01 -3.84979993e-02 -2.96099996e-03\n",
      "  2.01068997e-01  1.27419993e-01  2.22640000e-02  3.14496011e-01\n",
      " -3.65476996e-01 -1.85554996e-01  1.29087001e-01 -1.22979999e-01\n",
      " -1.82739004e-01 -1.33754000e-01  1.86684996e-01 -2.47933000e-01\n",
      " -1.00391001e-01 -1.27535999e-01  2.92820007e-01 -3.62823009e-01\n",
      "  5.92283010e-01  9.02149975e-02  1.88929006e-01 -1.46048993e-01\n",
      "  3.22097987e-01 -1.26681998e-01  1.97536007e-01 -3.37127000e-01\n",
      "  2.14352995e-01 -1.85378999e-01 -2.43899995e-03 -4.06370014e-02\n",
      " -1.59352005e-01  3.97620015e-02  1.19268999e-01 -2.29113996e-01\n",
      "  3.01048011e-01 -1.06455997e-01 -2.56107986e-01 -4.29399014e-01\n",
      " -1.63488001e-01 -2.74679005e-01  2.23480001e-01 -2.75626004e-01\n",
      "  2.78376997e-01 -3.35103005e-01  5.33320010e-02  9.90239978e-02\n",
      " -7.79099995e-03  1.99959993e-01 -1.35095000e-01  2.24190000e-02\n",
      " -2.40743995e-01 -1.50646001e-01  1.74492002e-01  6.25210032e-02\n",
      "  1.92149997e-01  1.00534000e-01 -2.39706993e-01 -1.52775005e-01\n",
      "  4.34177995e-01 -1.45376995e-01 -3.20603997e-01 -1.28499001e-01\n",
      "  2.27307007e-01 -1.58913001e-01  1.92970000e-02 -1.14960998e-01\n",
      " -4.30740006e-02 -7.98800029e-03 -2.67450005e-01 -1.71139002e-01\n",
      "  1.47967994e-01  5.35726011e-01 -3.58054012e-01 -8.21679980e-02\n",
      " -3.37467998e-01  2.71719009e-01  1.97516993e-01 -1.51410000e-02\n",
      "  1.38947994e-01  3.29712987e-01  8.66679996e-02  2.45590005e-02\n",
      "  1.17830001e-01 -3.17351997e-01 -1.42807007e-01 -1.61963001e-01\n",
      " -1.38149997e-02 -7.33390003e-02 -4.36290018e-02  1.01167001e-01\n",
      "  1.88403994e-01  2.68330991e-01 -4.20019001e-01 -1.28968000e-01\n",
      "  3.74464989e-01 -1.31245002e-01 -1.80935994e-01  1.67392001e-01\n",
      " -1.65409997e-01  2.46580001e-02  9.90410000e-02  1.90787002e-01\n",
      "  2.88084000e-01 -3.28907013e-01 -5.25030009e-02  3.62262011e-01\n",
      " -2.71715999e-01 -1.93005994e-01 -2.56840009e-02 -1.70879006e-01\n",
      "  1.74973994e-01  1.32125005e-01  1.63161993e-01 -1.27000007e-04\n",
      "  3.89209986e-02  1.76605999e-01  3.17599997e-02 -5.42879999e-02\n",
      " -3.79709989e-01  2.37717003e-01  8.99800006e-03  2.71818012e-01\n",
      "  2.83510000e-01  1.65922999e-01 -3.39150012e-01 -2.07479000e-01\n",
      "  2.13927001e-01  2.89319996e-02 -6.81499997e-03 -2.74379998e-02\n",
      "  2.55302995e-01 -1.10564999e-01  5.33960015e-02  3.48520994e-01\n",
      " -1.08441003e-01 -1.31075993e-01 -1.50039997e-02 -7.69789964e-02\n",
      "  2.79453009e-01  8.54599997e-02  8.83319974e-02  4.13589001e-01\n",
      "  3.21734011e-01 -3.06802988e-01 -8.71680006e-02  1.03251003e-01\n",
      "  2.07080003e-02 -5.16609997e-02 -5.60600013e-02  1.84292004e-01\n",
      "  4.88380007e-02 -1.51754007e-01  3.49036008e-01 -8.31120014e-02\n",
      "  2.02838004e-01  7.67150000e-02  5.41086018e-01  1.12203002e-01\n",
      " -7.91559964e-02 -6.66349977e-02 -2.01699004e-01  7.99909979e-02\n",
      " -2.66757995e-01  1.08326003e-01 -1.23126000e-01  4.79220003e-02\n",
      "  2.41597995e-01  1.81434005e-01  6.60634995e-01 -1.58876002e-01\n",
      " -1.44449994e-01  1.02761000e-01  5.02379984e-02  3.64120007e-02\n",
      " -9.41549987e-02 -5.19259982e-02 -1.89434007e-01  4.65588987e-01]\n"
     ]
    }
   ],
   "source": [
    "print(embedding_matrix.shape)\n",
    "print(embedding_matrix[4])"
   ]
  },
  {
   "cell_type": "code",
   "execution_count": 23,
   "metadata": {},
   "outputs": [
    {
     "name": "stdout",
     "output_type": "stream",
     "text": [
      "TextRNN(\n",
      "  (embedding): Embedding(5919, 300)\n",
      "  (lstm): LSTM(300, 128, num_layers=2, batch_first=True, dropout=0.5, bidirectional=True)\n",
      "  (fc): Linear(in_features=256, out_features=2, bias=True)\n",
      ")\n"
     ]
    }
   ],
   "source": [
    "#构建TextRNN模型\n",
    "rnn=TextRNN(args)\n",
    "print(rnn) #输出模型结构"
   ]
  },
  {
   "cell_type": "code",
   "execution_count": 24,
   "metadata": {},
   "outputs": [
    {
     "name": "stdout",
     "output_type": "stream",
     "text": [
      "embedding.weight : torch.Size([5919, 300])\n",
      "lstm.weight_ih_l0 : torch.Size([512, 300])\n",
      "lstm.weight_hh_l0 : torch.Size([512, 128])\n",
      "lstm.bias_ih_l0 : torch.Size([512])\n",
      "lstm.bias_hh_l0 : torch.Size([512])\n",
      "lstm.weight_ih_l0_reverse : torch.Size([512, 300])\n",
      "lstm.weight_hh_l0_reverse : torch.Size([512, 128])\n",
      "lstm.bias_ih_l0_reverse : torch.Size([512])\n",
      "lstm.bias_hh_l0_reverse : torch.Size([512])\n",
      "lstm.weight_ih_l1 : torch.Size([512, 256])\n",
      "lstm.weight_hh_l1 : torch.Size([512, 128])\n",
      "lstm.bias_ih_l1 : torch.Size([512])\n",
      "lstm.bias_hh_l1 : torch.Size([512])\n",
      "lstm.weight_ih_l1_reverse : torch.Size([512, 256])\n",
      "lstm.weight_hh_l1_reverse : torch.Size([512, 128])\n",
      "lstm.bias_ih_l1_reverse : torch.Size([512])\n",
      "lstm.bias_hh_l1_reverse : torch.Size([512])\n",
      "fc.weight : torch.Size([2, 256])\n",
      "fc.bias : torch.Size([2])\n",
      "模型需要训练参数为： 2611798\n"
     ]
    }
   ],
   "source": [
    "total_params = 0\n",
    "for name, parameters in rnn.named_parameters():\n",
    "    if not parameters.requires_grad: continue\n",
    "    print(name, ':', parameters.size())\n",
    "    total_params += parameters.numel()\n",
    "print(\"模型需要训练参数为：\", total_params)"
   ]
  },
  {
   "cell_type": "code",
   "execution_count": 25,
   "metadata": {},
   "outputs": [
    {
     "name": "stdout",
     "output_type": "stream",
     "text": [
      "1241\n"
     ]
    }
   ],
   "source": [
    "#参数设置\n",
    "\n",
    "EPOCH = 3; #轮次，根据训练情况设置\n",
    "\n",
    "LR = 0.001 #学习率，根据训练情况设置\n",
    "optimizer = torch.optim.Adam(rnn.parameters(), lr=LR) #优化器\n",
    "#损失函数\n",
    "loss_function = nn.CrossEntropyLoss()\n",
    "#训练批次大小，和内存显存相关\n",
    "epoch_size=100;\n",
    "texts_len=len(texts_with_id)\n",
    "print(texts_len)\n",
    "#划分训练数据和测试数据\n",
    "x_train, x_test, y_train, y_test = train_test_split(texts_with_id, label, test_size=0.2, random_state=42)\n",
    " \n",
    "test_x=torch.LongTensor(x_test)\n",
    "test_y=torch.LongTensor(y_test)\n",
    "train_x=x_train\n",
    "train_y=y_train\n",
    " \n",
    "test_epoch_size=200;"
   ]
  },
  {
   "cell_type": "code",
   "execution_count": 26,
   "metadata": {},
   "outputs": [
    {
     "name": "stdout",
     "output_type": "stream",
     "text": [
      "(992, 30)\n",
      "[0, 1, 0, 0, 0, 0, 1, 0, 1, 0]\n",
      "[0, 0, 1, 0, 0, 0, 0, 0, 0, 0]\n"
     ]
    }
   ],
   "source": [
    "print(x_train.shape)\n",
    "print(label[0:10])\n",
    "print(y_train[0:10])"
   ]
  },
  {
   "cell_type": "code",
   "execution_count": null,
   "metadata": {
    "collapsed": true
   },
   "outputs": [],
   "source": []
  },
  {
   "cell_type": "code",
   "execution_count": 27,
   "metadata": {},
   "outputs": [
    {
     "name": "stdout",
     "output_type": "stream",
     "text": [
      "batch: 0 损失:tensor(0.6785)\n",
      "batch: 1 损失:tensor(0.6580)\n",
      "batch: 2 损失:tensor(0.6217)\n",
      "batch: 3 损失:tensor(0.5786)\n",
      "batch: 4 损失:tensor(0.5435)\n",
      "batch: 5 损失:tensor(0.5038)\n",
      "batch: 6 损失:tensor(0.4381)\n",
      "batch: 7 损失:tensor(0.3869)\n",
      "batch: 8 损失:tensor(0.3281)\n",
      "batch: 9 损失:tensor(0.2267)\n",
      "epoch 0 训练集准确率：0.9042338709677419 测试集准确率：0.891566265060241\n",
      "batch: 0 损失:tensor(0.2076)\n",
      "batch: 1 损失:tensor(0.4887)\n",
      "batch: 2 损失:tensor(0.3532)\n",
      "batch: 3 损失:tensor(0.2178)\n",
      "batch: 4 损失:tensor(0.2119)\n",
      "batch: 5 损失:tensor(0.2374)\n",
      "batch: 6 损失:tensor(0.1675)\n",
      "batch: 7 损失:tensor(0.2610)\n",
      "batch: 8 损失:tensor(0.1895)\n",
      "batch: 9 损失:tensor(0.1359)\n",
      "epoch 1 训练集准确率：0.9193548387096774 测试集准确率：0.927710843373494\n",
      "batch: 0 损失:tensor(0.1457)\n",
      "batch: 1 损失:tensor(0.1898)\n",
      "batch: 2 损失:tensor(0.2029)\n",
      "batch: 3 损失:tensor(0.1894)\n",
      "batch: 4 损失:tensor(0.1533)\n",
      "batch: 5 损失:tensor(0.1478)\n",
      "batch: 6 损失:tensor(0.1009)\n",
      "batch: 7 损失:tensor(0.1858)\n",
      "batch: 8 损失:tensor(0.1451)\n",
      "batch: 9 损失:tensor(0.1101)\n",
      "epoch 2 训练集准确率：0.9556451612903226 测试集准确率：0.9397590361445783\n"
     ]
    }
   ],
   "source": [
    "for epoch in range(EPOCH):\n",
    "    train_acc_all = 0\n",
    "    for i in range(0, math.ceil(len(train_x)/epoch_size)):\n",
    " \n",
    "        b_x = Variable(torch.LongTensor(train_x[i*epoch_size:i*epoch_size+epoch_size]))\n",
    " \n",
    "        b_y = Variable(torch.LongTensor((train_y[i*epoch_size:i*epoch_size+epoch_size])))\n",
    "        output = rnn(b_x)\n",
    "        loss = loss_function(output, b_y)\n",
    "        optimizer.zero_grad()\n",
    "        loss.backward()\n",
    "        optimizer.step()\n",
    "        print('batch: ' + str(i) + \" 损失:\" + str(loss.data))\n",
    "        pred_y = torch.max(output, 1)[1].data.squeeze()\n",
    "        acc = (b_y == pred_y)\n",
    "        acc = acc.numpy().sum()\n",
    "        train_acc_all = train_acc_all + acc\n",
    " \n",
    "    acc_all = 0;\n",
    "    for j in range(0, math.ceil(len(test_x) / test_epoch_size)):\n",
    "        b_x = Variable(torch.LongTensor(test_x[j * test_epoch_size:j * test_epoch_size + test_epoch_size]))\n",
    "        b_y = Variable(torch.LongTensor((test_y[j * test_epoch_size:j * test_epoch_size + test_epoch_size])))\n",
    "        test_output = rnn(b_x)\n",
    "        pred_y = torch.max(test_output, 1)[1].data.squeeze()\n",
    "        # print(pred_y)\n",
    "        # print(test_y)\n",
    "        acc = (pred_y == b_y)\n",
    "        acc = acc.numpy().sum()\n",
    "        #print(\"准确率 \" + str(acc / b_y.size(0)))\n",
    "        acc_all = acc_all + acc\n",
    " \n",
    "    train_accuracy = train_acc_all / len(train_y)\n",
    "    test_accuracy = acc_all / (test_y.size(0))\n",
    "    print(\"epoch \" + str(epoch) + \" \" + \"训练集准确率：\" + str(train_accuracy) + \" 测试集准确率：\" + str(test_accuracy))"
   ]
  },
  {
   "cell_type": "code",
   "execution_count": 28,
   "metadata": {},
   "outputs": [
    {
     "name": "stdout",
     "output_type": "stream",
     "text": [
      "              precision    recall  f1-score   support\n",
      "\n",
      "        正常短信     0.9442    0.9910    0.9670       222\n",
      "        垃圾短信     0.8750    0.5185    0.6512        27\n",
      "\n",
      "    accuracy                         0.9398       249\n",
      "   macro avg     0.9096    0.7548    0.8091       249\n",
      "weighted avg     0.9367    0.9398    0.9328       249\n",
      "\n"
     ]
    }
   ],
   "source": [
    "test_output = rnn(test_x)\n",
    "pred_y = torch.max(test_output, 1)[1].data.squeeze()\n",
    "#输出结果报告\n",
    "print(classification_report(test_y, pred_y, digits=4, target_names = ['正常短信', '垃圾短信']))"
   ]
  },
  {
   "cell_type": "code",
   "execution_count": null,
   "metadata": {},
   "outputs": [],
   "source": []
  }
 ],
 "metadata": {
  "kernelspec": {
   "display_name": "Python 3",
   "language": "python",
   "name": "python3"
  },
  "language_info": {
   "codemirror_mode": {
    "name": "ipython",
    "version": 3
   },
   "file_extension": ".py",
   "mimetype": "text/x-python",
   "name": "python",
   "nbconvert_exporter": "python",
   "pygments_lexer": "ipython3",
   "version": "3.10.11"
  }
 },
 "nbformat": 4,
 "nbformat_minor": 2
}
