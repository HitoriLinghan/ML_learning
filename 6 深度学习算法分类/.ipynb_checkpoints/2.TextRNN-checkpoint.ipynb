{
 "cells": [
  {
   "attachments": {
    "13407176-bff8fda150726959.PNG": {
     "image/png": "[encoded data removed]"
    }
   },
   "cell_type": "markdown",
   "metadata": {},
   "source": [
    "## TextRNN\n",
    "\n",
    "TextRNN是一种基于递归神经网络（RNN）结构的文本分类模型，用于处理自然语言处理（NLP）任务。它可以接收变长的文本序列作为输入，并输出对文本的分类结果。\n",
    "\n",
    "TextRNN的原理是利用RNN的循环结构来建模文本序列中的上下文信息。具体来说，TextRNN将文本序列中的每个词或字符依次输入RNN中，RNN会根据当前输入的词或字符以及前一个词或字符的隐状态来更新当前的隐状态，并输出一个隐藏状态表示当前位置的文本信息。通过将整个文本序列依次输入RNN，并将最终的隐藏状态输入一个全连接层进行分类，可以得到文本的分类结果。\n",
    "\n",
    "TextRNN解决了传统的词袋模型（Bag of Words）和N-gram模型在处理文本时无法捕捉文本序列信息的问题。它可以更好地捕捉文本序列中的长期依赖关系，从而提高了文本分类的性能。\n",
    "\n",
    "TextRNN最早由Lei, Z., Zhang, Y., & Lei, T.于2015年提出。与传统的RNN相比，TextRNN可以更好地捕捉文本序列中的长期依赖关系，从而提高了文本分类的性能。\n",
    "\n",
    "LSTM（长短期记忆网络）和GRU（门控循环单元）是RNN的变种，它们可以用来替代传统的RNN单元。与传统的RNN相比，LSTM和GRU引入了门控机制，可以更有效地处理长序列，并且在一定程度上缓解了梯度消失和梯度爆炸问题。因此，TextRNN中的RNN单元可以选择使用LSTM或GRU来提高模型的性能和效率。\n",
    "\n",
    "![13407176-bff8fda150726959.PNG](attachment:13407176-bff8fda150726959.PNG)"
   ]
  },
  {
   "cell_type": "code",
   "execution_count": 1,
   "metadata": {},
   "outputs": [],
   "source": [
    "import torch\n",
    "import torch.nn as nn\n",
    "from torch.autograd import Variable\n",
    "import torch.utils.data as Data\n",
    "import torchvision\n",
    "import numpy as np\n",
    "from gensim.models import KeyedVectors\n",
    "from sklearn.model_selection import train_test_split\n",
    "import pandas as pd\n",
    "from collections import Counter\n",
    "from sklearn.metrics import classification_report"
   ]
  },
  {
   "cell_type": "code",
   "execution_count": 2,
   "metadata": {},
   "outputs": [
    {
     "name": "stdout",
     "output_type": "stream",
     "text": [
      "                                                  文本  标签\n",
      "0                       商业秘密 秘密性 维系 商业价值 垄断 地位 前提条件    0\n",
      "1  南口 阿玛施 新春 第一批 限量 春装 店 春暖花开 淑女 裙冰 蓝色 公主 衫 气质 粉小...   1\n",
      "2                                 带给 常州 一场 壮观 视觉 盛宴    0\n",
      "3                                     原因 不明 泌尿系统 结石    0\n",
      "4                                    年 盐城 拉回来 麻麻 嫁妆    0\n"
     ]
    }
   ],
   "source": [
    "#读取数据\n",
    "df = pd.read_csv('分词后data.csv')\n",
    "df = df.dropna()\n",
    "print(df.head())"
   ]
  },
  {
   "cell_type": "code",
   "execution_count": 3,
   "metadata": {},
   "outputs": [
    {
     "name": "stdout",
     "output_type": "stream",
     "text": [
      "1241 1241\n",
      "Counter({0: 1119, 1: 122})\n"
     ]
    }
   ],
   "source": [
    "data = df['文本'].tolist()\n",
    "label = df['标签'].tolist()\n",
    "print(len(data), len(label)) #查看语料信息\n",
    "print(Counter(label)) #查看不同标签文本数量"
   ]
  },
  {
   "cell_type": "code",
   "execution_count": 4,
   "metadata": {},
   "outputs": [
    {
     "name": "stdout",
     "output_type": "stream",
     "text": [
      "['商业秘密 秘密性 维系 商业价值 垄断 地位 前提条件 ', '南口 阿玛施 新春 第一批 限量 春装 店 春暖花开 淑女 裙冰 蓝色 公主 衫 气质 粉小 西装 冰丝 女王 长半裙 皇 ', '带给 常州 一场 壮观 视觉 盛宴 ', '原因 不明 泌尿系统 结石 ', '年 盐城 拉回来 麻麻 嫁妆 ']\n"
     ]
    }
   ],
   "source": [
    "texts = [each.split() for each in data]\n",
    "print(data[0:5])"
   ]
  },
  {
   "cell_type": "code",
   "execution_count": 5,
   "metadata": {},
   "outputs": [],
   "source": [
    "#构建词表，将文本中的字符单词替换为数字索引\n",
    "word_vocb=[]\n",
    "word_vocb.append('')\n",
    "for text in texts:\n",
    "    for word in text:\n",
    "        word_vocb.append(word)\n",
    "word_vocb=set(word_vocb)\n",
    "vocb_size=len(word_vocb)"
   ]
  },
  {
   "cell_type": "code",
   "execution_count": 6,
   "metadata": {},
   "outputs": [
    {
     "name": "stdout",
     "output_type": "stream",
     "text": [
      "5919\n"
     ]
    }
   ],
   "source": [
    "print(vocb_size)"
   ]
  },
  {
   "cell_type": "code",
   "execution_count": 7,
   "metadata": {},
   "outputs": [],
   "source": [
    "#词表与索引的映射\n",
    "word_to_idx={word:i for i,word in enumerate(word_vocb)}\n",
    "idx_to_word={word_to_idx[word]:word for word in word_to_idx}"
   ]
  },
  {
   "cell_type": "code",
   "execution_count": null,
   "metadata": {},
   "outputs": [],
   "source": []
  },
  {
   "cell_type": "code",
   "execution_count": 8,
   "metadata": {},
   "outputs": [],
   "source": [
    "import pickle"
   ]
  },
  {
   "cell_type": "code",
   "execution_count": 9,
   "metadata": {},
   "outputs": [],
   "source": [
    "#保存词表与索引，每次生成不同，为读取以保存CNN模型使用\n",
    "with open('word_to_idx.pkl',mode='wb') as f3:\n",
    "    pickle.dump(word_to_idx,f3)\n",
    "    pickle.dump(idx_to_word,f3)"
   ]
  },
  {
   "cell_type": "code",
   "execution_count": 10,
   "metadata": {},
   "outputs": [],
   "source": [
    "#读取词表与索引\n",
    "with open('word_to_idx.pkl',mode='rb') as f4:\n",
    "    word_to_idx=pickle.load(f4)\n",
    "    idx_to_word=pickle.load(f4)"
   ]
  },
  {
   "cell_type": "code",
   "execution_count": null,
   "metadata": {},
   "outputs": [],
   "source": []
  },
  {
   "cell_type": "code",
   "execution_count": 11,
   "metadata": {},
   "outputs": [
    {
     "name": "stdout",
     "output_type": "stream",
     "text": [
      "4328\n",
      "修建\n"
     ]
    }
   ],
   "source": [
    "print(word_to_idx['商业价值'])\n",
    "print(idx_to_word[222])"
   ]
  },
  {
   "cell_type": "code",
   "execution_count": null,
   "metadata": {
    "collapsed": true
   },
   "outputs": [],
   "source": []
  },
  {
   "cell_type": "code",
   "execution_count": 12,
   "metadata": {},
   "outputs": [],
   "source": [
    "#演示文本最大长度设置为30\n",
    "max_len = 30\n",
    "#生成训练数据，删除超过max_len的部分，不够的补0\n",
    "texts_with_id=np.zeros([len(texts),max_len])\n",
    "for i in range(0,len(texts)):\n",
    "    if len(texts[i])<max_len:\n",
    "        for j in range(0,len(texts[i])):\n",
    "            texts_with_id[i][j]=word_to_idx[texts[i][j]]\n",
    "        for j in range(len(texts[i]),max_len):\n",
    "            texts_with_id[i][j] = word_to_idx['']\n",
    "    else:\n",
    "        for j in range(0,max_len):\n",
    "            texts_with_id[i][j]=word_to_idx[texts[i][j]]"
   ]
  },
  {
   "cell_type": "code",
   "execution_count": 13,
   "metadata": {},
   "outputs": [
    {
     "name": "stdout",
     "output_type": "stream",
     "text": [
      "(1241, 30)\n",
      "[1431. 3981. 5401. 4328. 3814. 5462. 2020.    0.    0.    0.    0.    0.\n",
      "    0.    0.    0.    0.    0.    0.    0.    0.    0.    0.    0.    0.\n",
      "    0.    0.    0.    0.    0.    0.]\n"
     ]
    }
   ],
   "source": [
    "print(texts_with_id.shape)\n",
    "print(texts_with_id[0])"
   ]
  },
  {
   "cell_type": "code",
   "execution_count": 14,
   "metadata": {},
   "outputs": [],
   "source": [
    "#TextRNN模型\n",
    "class TextRNN(nn.Module):\n",
    "    def __init__(self,args):\n",
    "        super(TextRNN, self).__init__()\n",
    "        vocb_size = args['vocb_size']\n",
    "        dim = args['dim'] #词向量维度\n",
    "        n_class = args['n_class']\n",
    "        max_len = args['max_len']\n",
    "        embedding_matrix=args['embedding_matrix']\n",
    "        hidden_size = 128 #隐藏层单元\n",
    "        num_layers = 2 #RNN层数\n",
    "        dropout = 0.5 #防过拟合随机丢失\n",
    "        \n",
    "        #需要将事先训练好的词向量载入\n",
    "        self.embedding = nn.Embedding(vocb_size, dim,_weight=embedding_matrix)\n",
    "        \n",
    "        self.lstm = nn.LSTM(dim, hidden_size, num_layers,\n",
    "                            bidirectional=True, batch_first=True, dropout=dropout)\n",
    "        \n",
    "        self.fc = nn.Linear(hidden_size * 2, n_class)\n",
    "        \n",
    "    def forward(self, x):\n",
    "        out = self.embedding(x)  # [batch_size, seq_len, embeding]=[128, 32, 300]\n",
    "        #print(out.size())\n",
    "        out, _ = self.lstm(out)\n",
    "        #print(out.size())\n",
    "        out = self.fc(out[:, -1, :])  # 句子最后时刻的 hidden state\n",
    "        return out"
   ]
  },
  {
   "cell_type": "markdown",
   "metadata": {},
   "source": [
    "## ChatGPT 生成的代码解释\n",
    "\n",
    "这段代码定义了一个**TextRNN模型**，用于处理文本分类任务。让我逐步解释一下：\n",
    "\n",
    "1. **模型结构**：\n",
    "    - 这是一个继承自`nn.Module`的PyTorch模型类，名为`TextRNN`。\n",
    "    - 模型包含以下几个主要组件：\n",
    "        - 词嵌入层（`self.embedding`）：用于将输入的词索引转换为词向量。\n",
    "        - 双向LSTM层（`self.lstm`）：用于处理序列数据，捕捉上下文信息。\n",
    "        - 全连接层（`self.fc`）：用于将LSTM输出映射到分类标签。\n",
    "\n",
    "2. **初始化方法**（`__init__`）：\n",
    "    - 接收一个参数`args`，其中包含以下信息：\n",
    "        - `vocb_size`：词汇表大小。\n",
    "        - `dim`：词向量维度。\n",
    "        - `n_class`：分类类别数。\n",
    "        - `max_len`：最大序列长度。\n",
    "        - `embedding_matrix`：预训练的词向量矩阵。\n",
    "    - 初始化模型的各个组件：\n",
    "        - `self.embedding`：使用预训练的词向量矩阵作为权重。\n",
    "        - `self.lstm`：双向LSTM，包含指定数量的隐藏层单元和层数。\n",
    "        - `self.fc`：全连接层，将LSTM输出映射到分类标签。\n",
    "\n",
    "3. **前向传播方法**（`forward`）：\n",
    "    - 输入`x`是一个表示文本序列的张量，其形状为`[batch_size, seq_len]`。\n",
    "    - 首先，通过词嵌入层将词索引转换为词向量。\n",
    "    - 然后，将词向量输入到双向LSTM中，获取LSTM的输出。\n",
    "    - 最后，将LSTM输出的最后一个时间步的隐藏状态（双向拼接）传递给全连接层，得到分类结果。\n",
    "\n",
    "总之，这段代码定义了一个TextRNN模型，用于文本分类任务，其中包含词嵌入层、双向LSTM和全连接层。"
   ]
  },
  {
   "cell_type": "code",
   "execution_count": null,
   "metadata": {
    "collapsed": true
   },
   "outputs": [],
   "source": []
  },
  {
   "cell_type": "code",
   "execution_count": 15,
   "metadata": {},
   "outputs": [],
   "source": [
    "args = {}\n",
    "\n",
    "word_dim = 300 #词向量的维度\n",
    "n_class = 2 #类别\n",
    "\n",
    "#textCNN调用的参数\n",
    "args['vocb_size']=vocb_size\n",
    "args['max_len']=max_len\n",
    "args['n_class']=n_class\n",
    "args['dim']=word_dim"
   ]
  },
  {
   "cell_type": "code",
   "execution_count": 16,
   "metadata": {},
   "outputs": [],
   "source": [
    "#word2vec词向量\n",
    "cn_model = KeyedVectors.load_word2vec_format('F:/sgns.weibo.word.bz2', binary=False)"
   ]
  },
  {
   "cell_type": "code",
   "execution_count": 17,
   "metadata": {},
   "outputs": [],
   "source": [
    "#embedding层的参数大小为vocb_size*dim，即词汇表大小乘词向量的维度 又称为lookup表\n",
    "embedding_matrix = np.zeros((vocb_size, word_dim))\n",
    "\n",
    "for word, i in word_to_idx.items():\n",
    "    if word in cn_model:\n",
    "        embedding_vector = cn_model[word]\n",
    "        if embedding_vector is not None:\n",
    "            # words not found in embedding index will be all-zeros.\n",
    "            embedding_matrix[i] = embedding_vector\n",
    "args['embedding_matrix']=torch.Tensor(embedding_matrix)"
   ]
  },
  {
   "cell_type": "code",
   "execution_count": null,
   "metadata": {
    "collapsed": true
   },
   "outputs": [],
   "source": []
  },
  {
   "cell_type": "code",
   "execution_count": 22,
   "metadata": {
    "collapsed": true
   },
   "outputs": [],
   "source": [
    "import pickle"
   ]
  },
  {
   "cell_type": "code",
   "execution_count": 23,
   "metadata": {
    "collapsed": true
   },
   "outputs": [],
   "source": [
    "#保存所用到的词向量矩阵\n",
    "with open('embedding_matrix.pickle', mode='wb') as f1:\n",
    "    pickle.dump(embedding_matrix, f1)"
   ]
  },
  {
   "cell_type": "code",
   "execution_count": 24,
   "metadata": {
    "collapsed": true
   },
   "outputs": [],
   "source": [
    "#读取所用到的词向量矩阵\n",
    "with open('embedding_matrix.pickle', mode='rb') as f1:\n",
    "    embedding_matrix = pickle.load(f1)\n",
    "args['embedding_matrix']=torch.Tensor(embedding_matrix)"
   ]
  },
  {
   "cell_type": "code",
   "execution_count": 34,
   "metadata": {},
   "outputs": [
    {
     "name": "stdout",
     "output_type": "stream",
     "text": [
      "(5919, 300)\n",
      "[-0.054417    0.063796   -0.009264    0.479422    0.192514   -0.40388501\n",
      "  0.25332901 -0.47224501  0.096208    0.20209301  0.17250501  0.18344\n",
      " -0.35800299  0.179253   -0.006883   -0.28423601 -0.12950601  0.32903799\n",
      "  0.63201803 -0.19292399 -0.23195    -0.427001   -0.22023299 -0.13478599\n",
      "  0.33878699  0.161065   -0.41008201  0.18593501  0.076066    0.245349\n",
      " -0.31043899  0.22054499 -0.26199099 -0.04547     0.010115   -0.061725\n",
      "  0.212311   -0.256677   -0.210287    0.064537   -0.022281   -0.068045\n",
      " -0.23030099 -0.036141   -0.043569   -0.04599     0.148947    0.274813\n",
      "  0.018457   -0.231012   -0.02853    -0.57079703  0.077599   -0.20869499\n",
      " -0.18214101 -0.16693901  0.151346    0.084264    0.12637401 -0.237332\n",
      " -0.033812   -0.007359    0.17296501 -0.60124701 -0.151544   -0.24127001\n",
      "  0.066336    0.023112   -0.13138799  0.54788297 -0.26203799  0.311234\n",
      "  0.53576601 -0.115863    0.0048     -0.018249    0.194226    0.022979\n",
      " -0.058679    0.054547   -0.36730999  0.25197101  0.39524201  0.120293\n",
      "  0.062642   -0.37275901 -0.179426    0.371544   -0.089732   -0.32049099\n",
      " -0.32413     0.104578    0.31445599  0.26963201 -0.122137   -0.160714\n",
      "  0.34063801 -0.44867301 -0.120376    0.241229    0.016493    0.061384\n",
      " -0.099351   -0.156847    0.04545    -0.205704   -0.31035799 -0.096921\n",
      " -0.143925    0.35676    -0.27857599 -0.16050699  0.030334   -0.339829\n",
      "  0.038897    0.55075401  0.16554099  0.50192899  0.15511701 -0.38290501\n",
      " -0.20457     0.036717   -0.042109    0.044937    0.25451201 -0.13251799\n",
      " -0.32651901 -0.066517    0.46832299 -0.239895   -0.57276899 -0.08115\n",
      "  0.23876899 -0.16056301 -0.235278   -0.267427   -0.076475   -0.255898\n",
      "  0.34446499  0.154927   -0.218426    0.45903301  0.64372098  0.32738599\n",
      " -0.25537401 -0.39732     0.166052    0.327966   -0.192191   -0.114105\n",
      " -0.84084499  0.054027   -0.058718    0.397623   -0.066892   -0.317628\n",
      "  0.19880299 -0.25065801 -0.53426701 -0.073798    0.59059602  0.103944\n",
      "  0.036583    0.111764   -0.13713799 -0.19523799  0.236127   -0.031213\n",
      "  0.36943299 -0.101343    0.209831   -0.236453   -0.29930401 -0.420044\n",
      "  0.06006    -0.121974   -0.106147   -0.52953303  0.068161    0.617594\n",
      " -0.113032    0.034103    0.12968799 -0.63942301  0.059577    0.004179\n",
      "  0.346836   -0.312006   -0.26141101 -0.14401799  0.543212    0.24376599\n",
      "  0.049093    0.33305699 -0.048928    0.042577   -0.113093    0.46108899\n",
      " -0.165041   -0.256585    0.00491    -0.52174699 -0.458103   -0.07005\n",
      " -0.11205    -0.036578   -0.1021      0.399335   -0.35120401 -0.075802\n",
      "  0.20578299  0.141614   -0.489658   -0.21615    -0.422535   -0.26738399\n",
      " -0.19987001 -0.116011    0.045113   -0.31961399 -0.065493    0.230829\n",
      " -0.31910399 -0.020532    0.148068   -0.191607   -0.098395    0.016373\n",
      " -0.12917501 -0.198901   -0.13163801 -0.42747    -0.202776   -0.14631499\n",
      " -0.020942   -0.18145899 -0.09625     0.27227199  0.101891   -0.51915902\n",
      " -0.019035    0.36687899 -0.210289   -0.33566201  0.696859    0.111385\n",
      " -0.125193    0.122308   -0.139577    0.18392    -0.19339199 -0.16745199\n",
      "  0.146106   -0.18329    -0.37595499 -0.031869    0.012885   -0.187462\n",
      " -0.26689401 -0.38657799 -0.18187401  0.16914301 -0.255687    0.38784999\n",
      " -0.003374    0.148882    0.356204   -0.183878    0.02416     0.28834\n",
      "  0.088776   -0.028393   -0.002099   -0.047096   -0.48507601 -0.31607199\n",
      " -0.055514    0.45257401 -0.47848299  0.142913   -0.30544701 -0.110608\n",
      " -0.194674   -0.04915     0.25126401 -0.225134   -0.103763    0.021662\n",
      " -0.122779    0.315532   -0.393821   -0.31978101 -0.050438   -0.45922399\n",
      "  0.067175    0.18760499  0.55655402 -0.050344   -0.53710997  0.204496  ]\n"
     ]
    }
   ],
   "source": [
    "print(embedding_matrix.shape)\n",
    "print(embedding_matrix[4])"
   ]
  },
  {
   "cell_type": "code",
   "execution_count": 18,
   "metadata": {},
   "outputs": [
    {
     "name": "stdout",
     "output_type": "stream",
     "text": [
      "TextRNN(\n",
      "  (embedding): Embedding(5919, 300)\n",
      "  (lstm): LSTM(300, 128, num_layers=2, batch_first=True, dropout=0.5, bidirectional=True)\n",
      "  (fc): Linear(in_features=256, out_features=2, bias=True)\n",
      ")\n"
     ]
    }
   ],
   "source": [
    "#构建TextRNN模型\n",
    "rnn=TextRNN(args)\n",
    "print(rnn) #输出模型结构"
   ]
  },
  {
   "cell_type": "code",
   "execution_count": 24,
   "metadata": {},
   "outputs": [
    {
     "name": "stdout",
     "output_type": "stream",
     "text": [
      "embedding.weight : torch.Size([5919, 300])\n",
      "lstm.weight_ih_l0 : torch.Size([512, 300])\n",
      "lstm.weight_hh_l0 : torch.Size([512, 128])\n",
      "lstm.bias_ih_l0 : torch.Size([512])\n",
      "lstm.bias_hh_l0 : torch.Size([512])\n",
      "lstm.weight_ih_l0_reverse : torch.Size([512, 300])\n",
      "lstm.weight_hh_l0_reverse : torch.Size([512, 128])\n",
      "lstm.bias_ih_l0_reverse : torch.Size([512])\n",
      "lstm.bias_hh_l0_reverse : torch.Size([512])\n",
      "lstm.weight_ih_l1 : torch.Size([512, 256])\n",
      "lstm.weight_hh_l1 : torch.Size([512, 128])\n",
      "lstm.bias_ih_l1 : torch.Size([512])\n",
      "lstm.bias_hh_l1 : torch.Size([512])\n",
      "lstm.weight_ih_l1_reverse : torch.Size([512, 256])\n",
      "lstm.weight_hh_l1_reverse : torch.Size([512, 128])\n",
      "lstm.bias_ih_l1_reverse : torch.Size([512])\n",
      "lstm.bias_hh_l1_reverse : torch.Size([512])\n",
      "fc.weight : torch.Size([2, 256])\n",
      "fc.bias : torch.Size([2])\n",
      "模型需要训练参数为： 2611798\n"
     ]
    }
   ],
   "source": [
    "total_params = 0\n",
    "for name, parameters in rnn.named_parameters():\n",
    "    if not parameters.requires_grad: continue\n",
    "    print(name, ':', parameters.size())\n",
    "    total_params += parameters.numel()\n",
    "print(\"模型需要训练参数为：\", total_params)"
   ]
  },
  {
   "cell_type": "code",
   "execution_count": 40,
   "metadata": {},
   "outputs": [
    {
     "name": "stdout",
     "output_type": "stream",
     "text": [
      "1241\n"
     ]
    }
   ],
   "source": [
    "#参数设置\n",
    "\n",
    "EPOCH=10;\n",
    "\n",
    "LR = 0.001 #学习率\n",
    "optimizer = torch.optim.Adam(rnn.parameters(), lr=LR) #优化器\n",
    "#损失函数\n",
    "loss_function = nn.CrossEntropyLoss()\n",
    "#训练批次大小，和内存显存相关\n",
    "epoch_size=100;\n",
    "texts_len=len(texts_with_id)\n",
    "print(texts_len)\n",
    "#划分训练数据和测试数据\n",
    "x_train, x_test, y_train, y_test = train_test_split(texts_with_id, label, test_size=0.2, random_state=42)\n",
    " \n",
    "test_x=torch.LongTensor(x_test)\n",
    "test_y=torch.LongTensor(y_test)\n",
    "train_x=x_train\n",
    "train_y=y_train\n",
    " \n",
    "test_epoch_size=200;"
   ]
  },
  {
   "cell_type": "code",
   "execution_count": 38,
   "metadata": {},
   "outputs": [
    {
     "name": "stdout",
     "output_type": "stream",
     "text": [
      "(992, 30)\n",
      "[0, 1, 0, 0, 0, 0, 1, 0, 1, 0]\n",
      "[0, 0, 1, 0, 0, 0, 0, 0, 0, 0]\n"
     ]
    }
   ],
   "source": [
    "print(x_train.shape)\n",
    "print(label[0:10])\n",
    "print(y_train[0:10])"
   ]
  },
  {
   "cell_type": "code",
   "execution_count": null,
   "metadata": {
    "collapsed": true
   },
   "outputs": [],
   "source": []
  },
  {
   "cell_type": "code",
   "execution_count": 41,
   "metadata": {},
   "outputs": [
    {
     "name": "stdout",
     "output_type": "stream",
     "text": [
      "batch: 0 损失:tensor(0.6575)\n",
      "batch: 1 损失:tensor(0.6439)\n",
      "batch: 2 损失:tensor(0.6052)\n",
      "batch: 3 损失:tensor(0.5615)\n",
      "batch: 4 损失:tensor(0.5276)\n",
      "batch: 5 损失:tensor(0.4894)\n",
      "batch: 6 损失:tensor(0.4279)\n",
      "batch: 7 损失:tensor(0.3817)\n",
      "batch: 8 损失:tensor(0.3378)\n",
      "epoch 0 训练集准确率：0.8185483870967742 测试集准确率：0.7188755020080321\n",
      "batch: 0 损失:tensor(0.2320)\n",
      "batch: 1 损失:tensor(0.5036)\n",
      "batch: 2 损失:tensor(0.3437)\n",
      "batch: 3 损失:tensor(0.2203)\n",
      "batch: 4 损失:tensor(0.2225)\n",
      "batch: 5 损失:tensor(0.2617)\n",
      "batch: 6 损失:tensor(0.1886)\n",
      "batch: 7 损失:tensor(0.2741)\n",
      "batch: 8 损失:tensor(0.2279)\n",
      "epoch 1 训练集准确率：0.8245967741935484 测试集准确率：0.7228915662650602\n",
      "batch: 0 损失:tensor(0.1706)\n",
      "batch: 1 损失:tensor(0.2942)\n",
      "batch: 2 损失:tensor(0.2230)\n",
      "batch: 3 损失:tensor(0.1578)\n",
      "batch: 4 损失:tensor(0.1458)\n",
      "batch: 5 损失:tensor(0.1604)\n",
      "batch: 6 损失:tensor(0.1129)\n",
      "batch: 7 损失:tensor(0.1786)\n",
      "batch: 8 损失:tensor(0.1399)\n",
      "epoch 2 训练集准确率：0.8508064516129032 测试集准确率：0.7751004016064257\n",
      "batch: 0 损失:tensor(0.1175)\n",
      "batch: 1 损失:tensor(0.1602)\n",
      "batch: 2 损失:tensor(0.1674)\n",
      "batch: 3 损失:tensor(0.1503)\n",
      "batch: 4 损失:tensor(0.1027)\n",
      "batch: 5 损失:tensor(0.1138)\n",
      "batch: 6 损失:tensor(0.0550)\n",
      "batch: 7 损失:tensor(0.1366)\n",
      "batch: 8 损失:tensor(0.1216)\n",
      "epoch 3 训练集准确率：0.8699596774193549 测试集准确率：0.7871485943775101\n",
      "batch: 0 损失:tensor(0.1085)\n",
      "batch: 1 损失:tensor(0.0658)\n",
      "batch: 2 损失:tensor(0.1468)\n",
      "batch: 3 损失:tensor(0.1379)\n",
      "batch: 4 损失:tensor(0.0686)\n",
      "batch: 5 损失:tensor(0.0797)\n",
      "batch: 6 损失:tensor(0.0293)\n",
      "batch: 7 损失:tensor(0.0954)\n",
      "batch: 8 损失:tensor(0.1118)\n",
      "epoch 4 训练集准确率：0.8830645161290323 测试集准确率：0.7871485943775101\n",
      "batch: 0 损失:tensor(0.0554)\n",
      "batch: 1 损失:tensor(0.0166)\n",
      "batch: 2 损失:tensor(0.0949)\n",
      "batch: 3 损失:tensor(0.1063)\n",
      "batch: 4 损失:tensor(0.0555)\n",
      "batch: 5 损失:tensor(0.0441)\n",
      "batch: 6 损失:tensor(0.0364)\n",
      "batch: 7 损失:tensor(0.0122)\n",
      "batch: 8 损失:tensor(0.0577)\n",
      "epoch 5 训练集准确率：0.8961693548387096 测试集准确率：0.7831325301204819\n",
      "batch: 0 损失:tensor(0.0247)\n",
      "batch: 1 损失:tensor(0.0195)\n",
      "batch: 2 损失:tensor(0.0583)\n",
      "batch: 3 损失:tensor(0.1028)\n",
      "batch: 4 损失:tensor(0.0559)\n",
      "batch: 5 损失:tensor(0.0355)\n",
      "batch: 6 损失:tensor(0.0093)\n",
      "batch: 7 损失:tensor(0.0092)\n",
      "batch: 8 损失:tensor(0.0535)\n",
      "epoch 6 训练集准确率：0.9002016129032258 测试集准确率：0.7670682730923695\n",
      "batch: 0 损失:tensor(0.0643)\n",
      "batch: 1 损失:tensor(0.0074)\n",
      "batch: 2 损失:tensor(0.0715)\n",
      "batch: 3 损失:tensor(0.1050)\n",
      "batch: 4 损失:tensor(0.0469)\n",
      "batch: 5 损失:tensor(0.0067)\n",
      "batch: 6 损失:tensor(0.0062)\n",
      "batch: 7 损失:tensor(0.0066)\n",
      "batch: 8 损失:tensor(0.0563)\n",
      "epoch 7 训练集准确率：0.8991935483870968 测试集准确率：0.7751004016064257\n",
      "batch: 0 损失:tensor(0.0064)\n",
      "batch: 1 损失:tensor(0.0067)\n",
      "batch: 2 损失:tensor(0.0699)\n",
      "batch: 3 损失:tensor(0.1124)\n",
      "batch: 4 损失:tensor(0.0554)\n",
      "batch: 5 损失:tensor(0.0064)\n",
      "batch: 6 损失:tensor(0.0052)\n",
      "batch: 7 损失:tensor(0.0053)\n",
      "batch: 8 损失:tensor(0.0580)\n",
      "epoch 8 训练集准确率：0.9022177419354839 测试集准确率：0.7831325301204819\n",
      "batch: 0 损失:tensor(0.0053)\n",
      "batch: 1 损失:tensor(0.0049)\n",
      "batch: 2 损失:tensor(0.0594)\n",
      "batch: 3 损失:tensor(0.1070)\n",
      "batch: 4 损失:tensor(0.0262)\n",
      "batch: 5 损失:tensor(0.0052)\n",
      "batch: 6 损失:tensor(0.0054)\n",
      "batch: 7 损失:tensor(0.0054)\n",
      "batch: 8 损失:tensor(0.0214)\n",
      "epoch 9 训练集准确率：0.9022177419354839 测试集准确率：0.7791164658634538\n"
     ]
    }
   ],
   "source": [
    "for epoch in range(EPOCH):\n",
    "    train_acc_all = 0\n",
    "    for i in range(0,(int)(len(train_x)/epoch_size)):\n",
    " \n",
    "        b_x = Variable(torch.LongTensor(train_x[i*epoch_size:i*epoch_size+epoch_size]))\n",
    " \n",
    "        b_y = Variable(torch.LongTensor((train_y[i*epoch_size:i*epoch_size+epoch_size])))\n",
    "        output = rnn(b_x)\n",
    "        loss = loss_function(output, b_y)\n",
    "        optimizer.zero_grad()\n",
    "        loss.backward()\n",
    "        optimizer.step()\n",
    "        print('batch: ' + str(i) + \" 损失:\" + str(loss.data))\n",
    "        pred_y = torch.max(output, 1)[1].data.squeeze()\n",
    "        acc = (b_y == pred_y)\n",
    "        acc = acc.numpy().sum()\n",
    "        train_acc_all = train_acc_all + acc\n",
    " \n",
    "    acc_all = 0;\n",
    "    for j in range(0, (int)(len(test_x) / test_epoch_size)):\n",
    "        b_x = Variable(torch.LongTensor(test_x[j * test_epoch_size:j * test_epoch_size + test_epoch_size]))\n",
    "        b_y = Variable(torch.LongTensor((test_y[j * test_epoch_size:j * test_epoch_size + test_epoch_size])))\n",
    "        test_output = rnn(b_x)\n",
    "        pred_y = torch.max(test_output, 1)[1].data.squeeze()\n",
    "        # print(pred_y)\n",
    "        # print(test_y)\n",
    "        acc = (pred_y == b_y)\n",
    "        acc = acc.numpy().sum()\n",
    "        #print(\"准确率 \" + str(acc / b_y.size(0)))\n",
    "        acc_all = acc_all + acc\n",
    " \n",
    "    train_accuracy = train_acc_all / len(train_y)\n",
    "    test_accuracy = acc_all / (test_y.size(0))\n",
    "    print(\"epoch \" + str(epoch) + \" \" + \"训练集准确率：\" + str(train_accuracy) + \" 测试集准确率：\" + str(test_accuracy))"
   ]
  },
  {
   "cell_type": "code",
   "execution_count": 43,
   "metadata": {},
   "outputs": [
    {
     "name": "stdout",
     "output_type": "stream",
     "text": [
      "              precision    recall  f1-score   support\n",
      "\n",
      "        正常短信     0.9821    0.9865    0.9843       222\n",
      "        垃圾短信     0.8846    0.8519    0.8679        27\n",
      "\n",
      "    accuracy                         0.9719       249\n",
      "   macro avg     0.9333    0.9192    0.9261       249\n",
      "weighted avg     0.9715    0.9719    0.9717       249\n",
      "\n"
     ]
    }
   ],
   "source": [
    "test_output = rnn(test_x)\n",
    "pred_y = torch.max(test_output, 1)[1].data.squeeze()\n",
    "#输出结果报告\n",
    "print(classification_report(test_y, pred_y, digits=4, target_names = ['正常短信', '垃圾短信']))"
   ]
  },
  {
   "cell_type": "code",
   "execution_count": null,
   "metadata": {},
   "outputs": [],
   "source": []
  }
 ],
 "metadata": {
  "kernelspec": {
   "display_name": "torchgpu",
   "language": "python",
   "name": "torchgpu"
  },
  "language_info": {
   "codemirror_mode": {
    "name": "ipython",
    "version": 3
   },
   "file_extension": ".py",
   "mimetype": "text/x-python",
   "name": "python",
   "nbconvert_exporter": "python",
   "pygments_lexer": "ipython3",
   "version": "3.8.18"
  }
 },
 "nbformat": 4,
 "nbformat_minor": 2
}
